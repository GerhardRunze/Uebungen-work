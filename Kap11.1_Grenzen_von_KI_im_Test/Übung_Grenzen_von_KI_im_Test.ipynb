{
 "cells": [
  {
   "cell_type": "markdown",
   "id": "2d7a51b2-c423-45eb-80eb-23a7f2036db8",
   "metadata": {},
   "source": [
    "# Übung zu Kapitel 11.1 - Einsatz von KI für Tests (und dessen Grenzen)\n",
    "\n",
    "*Eine Übung zum Buch \"[Basiswissen KI-Testen - Qualität von und mit KI-basierten Systemen](https://dpunkt.de/produkt/basiswissen-ki-testen/)\", ISBN 978-3-86490-947-4*\n",
    "\n",
    "In dieser Übung geht um eine reine Diskussion der Fragestellung: *\"Bei allem, was KI heute schon kann, welche Aufgaben werden - in absehbarer Zeit - noch nicht von einer KI übernommen?\"*\n",
    "\n",
    "Stell dir vor, du bist Testmanagerin bzw. Testmanager. Für folgende Tätigkeiten verwendest du KI-Tools:\n",
    "* Testüberwachung und Vorhersage des Testfortschritts,\n",
    "* Testfallerstellung und \n",
    "* in der Testautomatisierung.\n",
    "\n",
    "Du suchst nach weiteren Aufgaben, die eine KI übernehmen könnte, um dich zu unterstützen. Aber schnell wird dir klar, dass es einige Aufgaben und Aktivitäten gibt, die keine KI übernehmen kann – zumindest nicht in naher Zukunft."
   ]
  },
  {
   "cell_type": "markdown",
   "id": "828f5715-3851-4ae0-9ad3-10a4209de555",
   "metadata": {},
   "source": [
    "## Aufgabe"
   ]
  },
  {
   "cell_type": "markdown",
   "id": "f45694ed-dbfe-473a-8675-c01eee757a00",
   "metadata": {},
   "source": [
    "Überlege dir Testaktivitäten und -aufgaben, die derzeit nur schwer mit Hilfe von KI bewältigt werden können bzw. bei denen KI nicht hilft. Schreibe diese auf und begründe sie oder diskutiere die Aufgabe mit einer Kollegin oder einem Kollegen.\n",
    "\n",
    "Eine **Hilfestellung** findest du gleich hier (in der folgenden Zelle die hinter den `...` noch versteckt ist)"
   ]
  },
  {
   "cell_type": "markdown",
   "id": "f477e14d-fdd8-4780-9950-7ccd277014fe",
   "metadata": {
    "jupyter": {
     "source_hidden": true
    },
    "tags": []
   },
   "source": [
    "Hilfestellung dazu: Welchen Mehrwert kannst du als Mensch aus der Kommunikation mit deinem Team und Projektpartnerinnen und -partnern ziehen? Wie kann dir deine Projekterfahrung und kritisches Hinterfragen weiterhelfen?"
   ]
  },
  {
   "cell_type": "markdown",
   "id": "c3e08daa-e1f6-4f93-a623-5c0418641c36",
   "metadata": {
    "tags": []
   },
   "source": [
    "## Lösung"
   ]
  },
  {
   "cell_type": "markdown",
   "id": "2161d4b6-500c-4b84-9c2a-ad5eb5f34e39",
   "metadata": {
    "jupyter": {
     "source_hidden": true
    },
    "tags": [
     "Lösung"
    ]
   },
   "source": [
    "Unserer Ansicht nach sind die folgenden Aufgaben bzw. Aktivitäten nicht durch KI zu lösen bzw. werden von KI nicht besser oder schneller gelöst:\n",
    "\n",
    "* **Spezifikation des Testorakels:** Unserer Meinung nach müssen Menschen festlegen, welches Testergebnis das richtige ist (siehe Kapitel 8.7. Testorakel für KI-basierte Systeme). Das ist zum Beispiel beim A/B Testen der Fall. Hier definieren Menschen, welches Ergebnis das bessere ist, siehe Kapitel 9.4 A/B Testen.\n",
    "* **Kommunikation im Team:** Die zwischenmenschliche Kommunikation und Diskussion können nur sehr schwer, wenn überhaupt, durch KI übernommen werden. Wir können uns allerdings vorstellen, dass sie in Zukunft durch KI-basierte Systeme unterstützt werden könnte.\n",
    "* **Klärung von Unklarheiten:** Wie bei der Kommunikation ist auch das Klären von Unklarheiten oder Mehrdeutigkeiten (z.B. *\"Welcher Rabatt ist in der Anforderungsbeschreibung gemeint?\"*) eine typisch menschliche Aufgabe, wenngleich auch hier KI in Zukunft unterstützen könnte.\n",
    "* **Fehlende Information beschaffen:** Eine KI kann nur sehr schwer entscheiden, wann alle Informationen vorhanden sind. Sie wird wahrscheinlich im jeweiligen Kontext suchen. Wir Menschen hingegen schauen auch gerne über den Tellerrand hinaus und beschaffen uns so weitere Informationen. Unsere Erfahrung sagt uns meist, dass wir an einem bestimmten Punkt aufhören können nach weiteren Informationen zu suchen. Diesen Punkt mathematisch korrekt zu definieren, um ihn mit einer Maschine exakt bestimmen zu können, ist sehr schwer.\n",
    "* **Vorschläge für eine besser Benutzbarkeit:** Das Benutzen einer Software und wie sich das anfühlt (User Experience), ist dem Menschen vorbehalten. Die KI wird hier nur unterstützend helfen können. Auch jetzt gibt es z.B. für das Testen auf Barrierefreiheit diverse Tools, die dabei unterstützen. Aber ob es sich gut und richtig anfühlt, wie wir eine Maschine bedienen, entscheiden am Ende dann auch wir Menschen.\n",
    "* **Thesen und Annahmen hinterfragen:** Hier müssen wir auch als Mensch über den Tellerrand hinausschauen, die Flughöhe ändern, die Perspektive wechseln, und so weiter und so fort. All diese Floskeln haben ihre Berechtigung und können von uns Menschen sehr gut umgesetzt werden. Für eine KI fehlt die konkrete Aufgabe.\n",
    "* **Unbequeme Fragen stellen:** Auch hier gilt genau das Gleiche wie im vorherigen Punkt.\n",
    "* **Bedürfnisse der Nutzerinnen und Nutzer erkennen:** Auch dies ist für eine KI nur sehr schwer umsetzbar. Sie kann sich nicht in die Lage der menschlichen Nutzerinnen und Nutzer versetzen und auch nur schwer die Bedürfnisse erkennen. Außerdem gibt es sehr viele verschiedene Bedürfnisse der Nutzerinnen und Nutzer. Wie soll die KI diese sortieren und priorisieren? Das hat wieder mit dem \"Tellerrand\" zu tun. Wir Menschen können das schnell und effizient. Der KI fehlt hier der genaue Kontext\n",
    "\n",
    "Teilweise kann eine schwache KI für begrenzte Aufgaben eingesetzt werden. Sie kann uns Menschen bei der Bewältigung der Aufgaben helfen. Die Allgemeine KI, die auch über den Tellerrand hinausschauen könnte, ist derzeit noch nicht verfügbar."
   ]
  }
 ],
 "metadata": {
  "kernelspec": {
   "display_name": "Python 3 (ipykernel)",
   "language": "python",
   "name": "python3"
  },
  "language_info": {
   "codemirror_mode": {
    "name": "ipython",
    "version": 3
   },
   "file_extension": ".py",
   "mimetype": "text/x-python",
   "name": "python",
   "nbconvert_exporter": "python",
   "pygments_lexer": "ipython3",
   "version": "3.11.0"
  }
 },
 "nbformat": 4,
 "nbformat_minor": 5
}
