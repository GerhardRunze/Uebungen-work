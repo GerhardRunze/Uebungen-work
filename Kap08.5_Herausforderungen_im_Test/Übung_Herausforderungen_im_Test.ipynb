{
 "cells": [
  {
   "cell_type": "markdown",
   "id": "16e3e639-5f26-4593-b371-77759c8af973",
   "metadata": {
    "tags": []
   },
   "source": [
    "# Übung zu Kapitel 8.5 - Herausforderungen bei der Verwendung eines künstlich neuronalen Netzes\n",
    "\n",
    "*Eine Übung zum Buch \"[Basiswissen KI-Testen - Qualität von und mit KI-basierten Systemen](https://dpunkt.de/produkt/basiswissen-ki-testen/)\", ISBN 978-3-86490-947-4*\n",
    "\n",
    "In dieser Übung geht es darum, die im Buch beschriebenen Herausforderungen beim Test von komplexen KI-basierten Systemen wiederzuerkennen und am Beispiel eines künstlichen neuronalen Netzes zu identifizieren."
   ]
  },
  {
   "cell_type": "markdown",
   "id": "155ef0d4-6ff2-4c57-8a90-eed05328af3d",
   "metadata": {
    "tags": [
     "Aufgabe"
    ]
   },
   "source": [
    "## Aufgabe\n",
    "\n",
    "### Szenario\n",
    "Im Buch ist das folgende Szenario beschrieben: Erinnere dich an das Praxisbeispiel 1-4 mit der KI-basierten Wetterprognose zur Regenvorhersage für den nächsten Tag. Diese Wetterprognose beruht auf dem naiven Bayes-Klassifikator und verwendet lediglich die Daten vom Vortag. Damit ist es ein vergleichsweise einfaches Modell. Nun wollen wir ein tiefes neuronales Netzwerk mit mehr Eingabevariablen als Modell trainieren, das komplexere Zusammenhänge lernen kann. Als zusätzliche Eingabevariablen nehmen wir die Wetterdaten der vergangenen Woche und die Informationen aus umliegenden Wetterstationen mit auf. Zur Modellentwicklung liegen historische Daten zu den Wetterstationen vor.\n",
    "\n",
    "### Frage\n",
    "Welche Herausforderungen, die du in dem Kapitel 8.5 kennengelernt hast, treffen auch auf die Wetterprognose mit einem kNN zu?"
   ]
  },
  {
   "cell_type": "markdown",
   "id": "efd13070-abcd-451f-9adb-47fb88447ed1",
   "metadata": {
    "tags": []
   },
   "source": [
    "### Mögliche Antworten"
   ]
  },
  {
   "cell_type": "markdown",
   "id": "7cb2cfef-50a7-4b0d-bff8-f964114678a3",
   "metadata": {
    "jp-MarkdownHeadingCollapsed": true,
    "tags": []
   },
   "source": [
    "*Wähle die Antworten aus (es sind mehrere), die eine Herausforderung im Test komplexer KI-basierter Systeme - insbesondere der hier beschriebenen Wetterstation - darstellen.*\n",
    "\n",
    "(A) Das neue trainierte Modell mit seinen Gewichten und Schwellwerten ist zu komplex, um es als Mensch überblicken und verstehen zu können. Ob Gewichte oder Schwellen plausibel sind, lässt sich nicht testen.\n",
    "\n",
    "(B) Das Klassifikationsergebnis (z.B. \"Regen\") ist bei Berücksichtigung vieler Wetterdaten eher probabilistischer Natur. Ein Ergebnis eines einzelnen Tests hat nur wenig Aussagekraft.\n",
    "\n",
    "(C) Wir stehen hier dem Testorakel-Problem gegenüber, da wir nicht genau vorhersagen können welche Parameterkombinationen als Wetterdaten zur richtigen Prognose führen.\n",
    "\n",
    "(D) Wir haben ein Testdaten-Problem, weil wir immer bis zum nächsten Tag warten müssen, um eine einzige Prognose zu verifizieren.\n",
    "\n",
    "(E) Wir können keine White-Box Tests einsetzen, um die Vorhersagefunktion umfänglich zu testen. Die interne Struktur ist zu komplex, um hierfür Testdaten und erwartete Ergebnisse abzuleiten.\n"
   ]
  },
  {
   "cell_type": "markdown",
   "id": "894ae5b1-11eb-44f4-b75d-d9e57a820aff",
   "metadata": {
    "jp-MarkdownHeadingCollapsed": true,
    "tags": []
   },
   "source": [
    "## Lösung"
   ]
  },
  {
   "cell_type": "markdown",
   "id": "0d304965-7ce2-4c48-8101-55b58c85a852",
   "metadata": {
    "tags": [
     "Lösung"
    ]
   },
   "source": [
    "**(A) ist richtig.</br>**\n",
    "\"Das neue trainierte Modell mit seinen Gewichten und Schwellwerten ist zu komplex, um es als Mensch überblicken und verstehen zu können. Ob Gewichte oder Schwellen plausibel sind, lässt sich nicht testen.\"</br>\n",
    "*Wir haben es mit einem tiefen neuronalen Netz zu tun, das nicht nur mehrere Wetterparameter über viele vergangene Stunden und Tage erhält, sondern zudem von mehreren benachbarten Wetterstationen die gleichen Informationen zusätzlich. Wir können hier nicht mehr vorhersagen, welcher Wert welchen Einfluss auf die Wetterprognose nehmen wird. Der Zusammenhang kann nur über viele Trainingsdaten maschinell ermittelt werden - also durch maschinelles Lernen.*\n",
    "\n",
    "**(B) ist richtig.</br>**\n",
    "\"Das Klassifikationsergebnis (z.B. \"Regen\") ist bei Berücksichtigung vieler Wetterdaten eher probabilistischer Natur. Ein Ergebnis eines einzelnen Tests hat nur wenig Aussagekraft.\"</br>\n",
    "*Wir können für ein solches System zum Test - so wie bei konventioneller Software - für eine Wettersituation (der vergangenen Woche) kein bestimmtes Ergebnis als \"korrekte\" Wetterprognose erwarten. Möglicherweise kann es sogar sein, dass in der Natur die gleiche Wettersituation mal zu Regen, mal nicht zu Regen führt. Die Korrektheit einer einzelnen Vorhersage hat für sich keine Beweiskraft. Wir brauchen viele Prognosen um feststellen zu können, ob unsere Wetterstation häufig genug richtig liegt.*\n",
    "\n",
    "(C) ist *nicht richtig*.</br>\n",
    "\"Wir stehen hier dem Testorakel-Problem gegenüber, da wir nicht genau vorhersagen können welche Parameterkombinationen als Wetterdaten zur richtigen Prognose führen.\"</br>\n",
    "*An sich stimmt es schon, dass wir nicht exakt vorhersagen können, was ein \"richtiges\" Ergebnis ist. Doch haben wir für das Training unseres neuronalen Netzes die historischen Daten aus der Vergangenheit. Dort können wir - historisch rückblickend - aber nachsehen, welche Wetterdaten zu Regen und welche nicht zu Regen geführt haben. So gesehen haben wir im Rahmen unserer Datenbasis auch ein Testorakel.*</br>\n",
    "\n",
    "(D) ist *nicht richtig*.</br>\n",
    "\"Wir haben ein Testdaten-Problem, weil wir immer bis zum nächsten Tag warten müssen, um eine einzige Prognose zu verifizieren.\"</br>\n",
    "*Auch hier stimmt die Aussage nur, wenn wir eine neue Wettersituation vorfinden würden (quasi im echten Einsatz), die es in der bekannten Datenbasis nicht gibt. Hier gilt aber die gleiche Begründung wie für die Aussage (C): Wir haben (historische) Daten, auf die wir für Training und Test zugreifen können.*\n",
    "\n",
    "**(E) ist richtig.**</br>\n",
    "\"Wir können keine White-Box Tests einsetzen, um die Vorhersagefunktion umfänglich zu testen. Die interne Struktur ist zu komplex, um hierfür Testdaten und erwartete Ergebnisse abzuleiten.\"</br>\n",
    "*Verbunden mit der Aussage (A) kann es sein, dass wir auf die innere Struktur des neuronalen Netzes zugreifen könnten und es strukturbasiert (White-Box) überprüfen könnten. Dabei wäre aber wohl nur möglich zu prüfen, ob alle Gewichte und alle Eingänge als solches verwendet, und u.U. die als Hyperparameter eingestellte Aktivierungsfunktion verwendet wurde. Wir könnten jedoch aus der Struktur nicht die erwarteten Ergebnisse für die eigentliche Funktion der Wettervorhersage ableiten.*"
   ]
  }
 ],
 "metadata": {
  "kernelspec": {
   "display_name": "Python 3 (ipykernel)",
   "language": "python",
   "name": "python3"
  },
  "language_info": {
   "codemirror_mode": {
    "name": "ipython",
    "version": 3
   },
   "file_extension": ".py",
   "mimetype": "text/x-python",
   "name": "python",
   "nbconvert_exporter": "python",
   "pygments_lexer": "ipython3",
   "version": "3.7.6"
  }
 },
 "nbformat": 4,
 "nbformat_minor": 5
}
