{
 "cells": [
  {
   "cell_type": "markdown",
   "id": "16e3e639-5f26-4593-b371-77759c8af973",
   "metadata": {
    "tags": []
   },
   "source": [
    "# Übung zu Kapitel 8.8 - Akzeptanzkriterien\n",
    "\n",
    "*Eine Übung zum Buch \"[Basiswissen KI-Testen - Qualität von und mit KI-basierten Systemen](https://dpunkt.de/produkt/basiswissen-ki-testen/)\", ISBN 978-3-86490-947-4*\n",
    "\n",
    "In dieser Übung sollst du in der Rolle einer Testerin oder eines Testers bei der Erstellung von Akzeptanzkriterien für einen Mähroboter helfen und dir grundlegende Überlegungen zu den nötigen Akzeptanzkriterien machen."
   ]
  },
  {
   "cell_type": "markdown",
   "id": "646efaa7-c26e-40ad-92fb-9102e37aa629",
   "metadata": {},
   "source": [
    "## Aufgabe"
   ]
  },
  {
   "cell_type": "markdown",
   "id": "56a4f688-6aed-471b-8c28-657126b26290",
   "metadata": {
    "tags": [
     "Aufgabe"
    ]
   },
   "source": [
    "Wende die Checkliste aus *Tabelle 8-2* (*des Buchs*) an, um Akzeptanzkriterien abzuleiten. Welche Überlegungen würdest du machen, welche Punkte dürfen wir nicht vergessen, wo brauchen wir mehr Wissen über das System oder von Stakeholderinnen und Stakeholdern? Stelle dir konkrete Situationen vor, in denen die jeweiligen Qualitätsmerkmale wichtig sind und wie man sie anhand geeigneter Akzeptanzkriterien testen kann."
   ]
  },
  {
   "cell_type": "markdown",
   "id": "6efc1236-a4f7-4033-8d69-8c83128d63d5",
   "metadata": {},
   "source": [
    "Wenn du das Buch gerade nicht zur Hand hast, haben wir dir die **Qualitätsmerkmale** aus der Checkliste hier nochmal aufgelistet:\n",
    "* Anpassbarkeit\n",
    "* Flexibilität\n",
    "* Evolution\n",
    "* Autonomie\n",
    "* Transparenz, Interpretierbarkeit und Erklärbarkeit\n",
    "* Unangemessener Bias (Verzerrung)\n",
    "* Ethik\n",
    "* Probabilistische und nicht-deterministische Systeme\n",
    "* Seiteneffekte (Nebenwirkungen)\n",
    "* Reward Hacking (Belohnungs-Hacking)\n",
    "* Funktionale Sicherheit\n",
    "\n",
    "Bevor du *zu schnell* in den Lösungen nachsiehst: Überlege dir konkret zu jedem Qualitätsmerkmal was - zum Beispiel *Anpassbarkeit* - für den Mähroboter **bedeuten** könnte, mit welcher Art von **Test** du dieses erfassen kannst, und wie du konkret ein Akzeptanzkriterium beschreiben könntest."
   ]
  },
  {
   "cell_type": "markdown",
   "id": "894ae5b1-11eb-44f4-b75d-d9e57a820aff",
   "metadata": {
    "jp-MarkdownHeadingCollapsed": true,
    "tags": []
   },
   "source": [
    "## Lösungen"
   ]
  },
  {
   "cell_type": "markdown",
   "id": "9d7753c9-79f1-4e1a-9eed-d53aabf04a04",
   "metadata": {},
   "source": [
    "**Anpassbarkeit**"
   ]
  },
  {
   "cell_type": "markdown",
   "id": "0d43c63b-c43a-4ff9-b814-6c485d0113ef",
   "metadata": {
    "jupyter": {
     "source_hidden": true
    },
    "tags": [
     "Lösung"
    ]
   },
   "source": [
    "Dazu können wir uns für den Mähroboter relevante, aber noch nicht in der Entwicklung abgedeckte Einsatzumgebungen überlegen. Beispielsweise soll er auf Sand mit einer bestimmten Sorte von Steppengras unter großer Hitze eingesetzt werden können. Oder er soll das Gras zwischen Reben auf einem sehr steilen Weinberg mähen. Dafür müssen einige Hardware- und Software-Konfigurationen vorgenommen werden. Durch Tests bewerten wir, wie leicht sich der Mähroboter an eine spezielle Umgebung anpassen lässt, wieviel Aufwand nötig ist, den Mähroboter entsprechend zu konfigurieren und ob er dann auch noch korrekt funktioniert. Für das Testen auf Funktionalität eignen sich automatisierte Regressionstests."
   ]
  },
  {
   "cell_type": "markdown",
   "id": "17500669-27cf-4a01-9eef-9c404671fca9",
   "metadata": {},
   "source": [
    "**Flexibilität**"
   ]
  },
  {
   "cell_type": "markdown",
   "id": "ce173081-eef1-47e1-a48e-c18b6fdc546c",
   "metadata": {
    "jupyter": {
     "source_hidden": true
    },
    "tags": [
     "Lösung"
    ]
   },
   "source": [
    "Hier betrachten wir, wie gut sich der Mähroboter selbst an neue Gegebenheiten anpassen kann. Stellen wir uns einen Rasen vor, auf dem besonders viele oder mobile Hindernisse wie Bälle oder Mobiliar stehen oder auf dem eine Grassorte mit anderen Eigenschaften wächst. Durch Tests bewerten wir, wie flexible sich der Mähroboter an eine spezielle Umgebung selbst anpasst und wieviel Ressourcen er dafür braucht. Für das Testen auf Funktionalität eignen sich automatisierte Regressionstests."
   ]
  },
  {
   "cell_type": "markdown",
   "id": "9179d29f-8c8f-4541-ab6a-790113552756",
   "metadata": {},
   "source": [
    "**Evolution**"
   ]
  },
  {
   "cell_type": "markdown",
   "id": "8dbec3ce-016a-4f4f-a935-94db44038c06",
   "metadata": {
    "jupyter": {
     "source_hidden": true
    },
    "tags": [
     "Lösung"
    ]
   },
   "source": [
    "Stellen wir uns vor, dass ein Gegenstand regelmäßig auf der Wiese vergessen wird, z.B. eine Wasserspritzpistole. Daran verhakt sich der Mähroboter regelmäßig so, dass er sich nicht mehr selbständig befreien kann. Wie gut lernt der Mähroboter aus seinen Erfahrungen? Wann verhakt er sich nicht mehr in der Wasserspritzpistole, weil er sie beispielsweise rechtzeitig erkennt und meidet."
   ]
  },
  {
   "cell_type": "markdown",
   "id": "4ff42540-fac2-4965-bb82-a9f0f6062c79",
   "metadata": {},
   "source": [
    "**Autonomie**"
   ]
  },
  {
   "cell_type": "markdown",
   "id": "2c7de5a3-4324-4482-9a22-cc54318e1c20",
   "metadata": {
    "jupyter": {
     "source_hidden": true
    },
    "tags": [
     "Lösung"
    ]
   },
   "source": [
    "Um festzustellen, dass der Mähroboter vollständig autonom agieren kann, können wir Tests in verschiedenen Umgebungen erstellen. Darüber hinaus können wir in Tests gezielt versuchen, den Mähroboter so zu beeinflussen, dass er schließlich menschliches Eingreifen fordert, z.B. da der Mähroboter annimmt, dass er nicht von der Stelle kommt und menschliches Eingreifen fordert, obwohl dies nicht nötig ist. Beispielsweise platzieren wir dazu ein Blatt „zufällig“ so, dass ein Sensor verdeckt wird, oder wir spielen mit verschiedenen Licht-Schatten-Übergängen. "
   ]
  },
  {
   "cell_type": "markdown",
   "id": "b29a9aa1-febe-46d0-94d7-a1c5e5d8a3fc",
   "metadata": {},
   "source": [
    "**Transparenz, Interpretierbarkeit und Erklärbarkeit**"
   ]
  },
  {
   "cell_type": "markdown",
   "id": "15126f33-1437-41ea-8001-76e0842fde89",
   "metadata": {
    "jupyter": {
     "source_hidden": true
    },
    "tags": [
     "Lösung"
    ]
   },
   "source": [
    "Hierfür sind vor allem frei zugängliche Dokumentationen wie ein Handbuch von Relevanz und, ob der Code für Nutzerinnen und Nutzer frei zugänglich ist (open source oder frei zugängliche Schnittstellen). Falls dies gegeben ist, stellt sich die Frage, wie vollständig und verständlich diese dokumentiert sind, um das Verhalten des Mähroboters auch als Nicht-Expertinnen und Nicht-Experten interpretieren oder sogar erklären zu können. "
   ]
  },
  {
   "cell_type": "markdown",
   "id": "386c0068-8f4a-4278-8f6e-47fc9f27e99d",
   "metadata": {},
   "source": [
    "**unangemessene Bias**"
   ]
  },
  {
   "cell_type": "markdown",
   "id": "8955f750-1fa8-49e3-8100-e49a7eae05c4",
   "metadata": {
    "jupyter": {
     "source_hidden": true
    },
    "tags": [
     "Lösung"
    ]
   },
   "source": [
    "Nehmen wir hier an, dass es Sensoren gibt, die rechtzeitig menschliche Füße erkennen sollen, damit der Mähroboter diese nicht übersieht  und Menschen verletzt. Um hier ein unangemessenes Bias zu identifizieren, müssen wir verschiedene Parameter wie die Größe der Füße, Hautfarbe und verschiedene Beschaffenheiten der Füße wie Behaarung, Schmuck oder Nagellack mit in unsere Tests einbeziehen. Je nach Art und Umfang der menschlichen Interaktion müssen wir hier Expertinnen und Experten mit einbeziehen, um möglichst viele relevante Arten von Bias zu identifizieren."
   ]
  },
  {
   "cell_type": "markdown",
   "id": "d0c5de8f-b2a0-4e10-8acd-537262c8c3c7",
   "metadata": {},
   "source": [
    "**Ethik**"
   ]
  },
  {
   "cell_type": "markdown",
   "id": "fb08382d-2d3d-48b5-8a5d-aeeb0efa9f98",
   "metadata": {
    "jupyter": {
     "source_hidden": true
    },
    "tags": [
     "Lösung"
    ]
   },
   "source": [
    "Vielleicht hast du mitbekommen, als in den Medien berichtet wurde, dass Mähroboter eine Gefahr für Igel darstellen.  Dass diese Nachricht auch beim Testen KI-basierter Systeme relevant ist, unterstreicht die Europäischen Kommission durch den Punkt \"Gesellschaftliches und ökologisches Wohlergehen\" in ihrer Bewertungsliste für vertrauenswürdige KI. Wir empfehlen bei solchen Themen Expertinnen und Experten zu Rate zu ziehen, die dich bei den Überlegungen unterstützen."
   ]
  },
  {
   "cell_type": "markdown",
   "id": "2022c3f5-759e-404f-be14-04c83c513101",
   "metadata": {},
   "source": [
    "**Probabilistische und nicht-deterministische Systeme**"
   ]
  },
  {
   "cell_type": "markdown",
   "id": "ce19c633-29a2-4474-a3d1-33e7bc0aa470",
   "metadata": {
    "jupyter": {
     "source_hidden": true
    },
    "tags": [
     "Lösung"
    ]
   },
   "source": [
    "Ein Rasen hat nicht immer identische Bedingungen, da er vielen Umwelteinflüssen wie Sonnenstand, Temperatur, Luftfeuchtigkeit, Wind und vieles mehr ausgesetzt ist. Im Mähroboter werden auch Zufallsgeneratoren verwendet, um beispielweise die Richtung des Mähroboters zu verändern. Bei scheinbar identischen Bedingungen legt der Mähroboter ein anderes Verhalten an den Tag als zuvor. Hier lohnt es sich also Akzeptanzkriterien zu der Leistung des Mähroboter mit einer Toleranz anzugeben. "
   ]
  },
  {
   "cell_type": "markdown",
   "id": "75a5f678-fd77-491f-897e-12730a029baf",
   "metadata": {},
   "source": [
    "**Seiteneffekte**"
   ]
  },
  {
   "cell_type": "markdown",
   "id": "b4df4c3b-8609-4597-8f02-912f0e806fcd",
   "metadata": {
    "jupyter": {
     "source_hidden": true
    },
    "tags": [
     "Lösung"
    ]
   },
   "source": [
    "Welche Seiteneffekte könnte der Mähroboter auf die Gartenpflege, die Tiere im Garten (Insekten, Igel, Mäuse, …) und die Nutzerinnen und Nutzer des Rasens haben? Um dies herauszufinden, können wir Tests formulieren, die potenzielle Seiteneffekte provozieren. Wir können auch hier wieder Expertinnen und Experten mit einbeziehen oder sogar Studien veranlassen, um die Auswirkungen des Mähroboters auf das Biotop Garten und deren Nutzerinnen und Nutzer zu bestimmen und zu bewerten. "
   ]
  },
  {
   "cell_type": "markdown",
   "id": "de2d71da-3008-4a55-b8b7-8b32a6131731",
   "metadata": {},
   "source": [
    "**Reward-Hacking**"
   ]
  },
  {
   "cell_type": "markdown",
   "id": "c12ad64f-8a77-425e-94ad-dc92b4308085",
   "metadata": {
    "jupyter": {
     "source_hidden": true
    },
    "tags": [
     "Lösung"
    ]
   },
   "source": [
    "Was sind die vom Algorithmus des Mähroboters zu optimierenden Parameter? Zeit, bis der Mähroboter einmal überall war, die Menge an geschnittenem Gras, eine Kombination aus beidem? Verfolgt er dabei eine bestimmte Systematik, wie erst den Rand mähen und dann die Fläche? Wie kann der Algorithmus ausgetrickst werden, so dass er rechnerisch sein Optimierungsziel erreicht, ohne tatsächlich den Rasen gründlich gemäht zu haben? "
   ]
  },
  {
   "cell_type": "markdown",
   "id": "e3ecdb7c-bd9e-4499-a5c7-e2c59c1a3a24",
   "metadata": {},
   "source": [
    "**Funktionale Sicherheit**"
   ]
  },
  {
   "cell_type": "markdown",
   "id": "1594430e-c936-41e0-8558-1105613066e7",
   "metadata": {
    "jupyter": {
     "source_hidden": true
    },
    "tags": [
     "Lösung"
    ]
   },
   "source": [
    "Wann kann das Verhalten eines Mähroboters gefährlich werden? Die Klinge des Mähroboters stellt eine besondere Gefahr dar. Hier steht also das Verhalten während des Mähens, der Umgang mit Hindernissen aber auch die Zweckentfremdung des Mähroboters oder eine unsachgemäße Verwendung im Fokus. Ein Mähroboter kann sich aber auch selbst schaden, wenn er Gegenstände verschiebt, so dass er von einem umfallenden Gegenstand getroffen wird oder eine Kante nicht erkennt und abstürzt. "
   ]
  }
 ],
 "metadata": {
  "kernelspec": {
   "display_name": "Python 3 (ipykernel)",
   "language": "python",
   "name": "python3"
  },
  "language_info": {
   "codemirror_mode": {
    "name": "ipython",
    "version": 3
   },
   "file_extension": ".py",
   "mimetype": "text/x-python",
   "name": "python",
   "nbconvert_exporter": "python",
   "pygments_lexer": "ipython3",
   "version": "3.11.0"
  }
 },
 "nbformat": 4,
 "nbformat_minor": 5
}
