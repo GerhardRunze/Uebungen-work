{
    "cells": [
        {
            "cell_type": "markdown",
            "id": "00a0b48c-830a-4794-8ba2-93957e370fa5",
            "metadata": {},
            "source": [
                "# \u00dcbung zu Kapitel 9.2 - Paarweises Testen\n",
                "\n",
                "*Eine \u00dcbung zum Buch \"[Basiswissen KI-Testen - Qualit\u00e4t von und mit KI-basierten Systemen](https://dpunkt.de/produkt/basiswissen-ki-testen/)\", ISBN 978-3-86490-947-4*\n",
                "\n",
                "In dieser \u00dcbung kannst du das paarweise Testen \u00fcben. Zuerst manuell an einem einfachen Beispiel, dann \u00fcber ein Software-Tool.</br>Die Grundlagen zum paarweisen Testen findest du in Abschnitt 9.2 des Buches. Auf Wikipedia gibt es einen kurzen Artikel unter dem Schlagwort [Pairwise-Methode](https://de.wikipedia.org/wiki/Pairwise-Methode), der die Methode pr\u00e4gnant zusammenfasst.\n"
            ]
        },
        {
            "cell_type": "markdown",
            "id": "2b8d497b-2144-4d65-9e87-e8a57d077caf",
            "metadata": {},
            "source": [
                "Die \u00dcbung hat zwei Aufgaben.\n",
                "* Aufgabe 1: Manuelles Erg\u00e4nzen der Tabelle 9-4 aus dem Buch um *Tempomat*, *SH-Ass*, *SW-Ass*\n",
                "* Aufgabe 2: Ein Tool zum paarweisen Testen nutzen"
            ]
        },
        {
            "cell_type": "markdown",
            "id": "ac485dee-b25c-47a0-9f9c-403bb8f9b118",
            "metadata": {
                "jp-MarkdownHeadingCollapsed": true,
                "tags": []
            },
            "source": [
                "## Tools f\u00fcr diese \u00dcbung"
            ]
        },
        {
            "cell_type": "markdown",
            "id": "c54e1fcf-7b27-4d2f-a87c-ddb341d0efcc",
            "metadata": {
                "tags": []
            },
            "source": [
                "F\u00fcr die\n",
                "\u00dcbung ben\u00f6tigst du &ndash; im weiteren Verlauf &ndash; ein Tool, mit dem du dir die paarweisen Kombinationen erstellen lassen kannst. Tools gibt es sehr viele und die Website https://pairwise.org hat eine [Tools-Seite](https://www.pairwise.org/tools.html) in der viele aufgelistet sind; Bibliotheken, Kommandozeilen- oder Webanwendungen.</br>\n",
                "F\u00fcr unsere \u00dcbung empfehlen wir dir diese Optionen:\n",
                "* PICT als *Kommandozeilenanwendung*. Die Quellen findest du auf GitHub https://github.com/microsoft/pict, die aktuelle Release der Kommandozeilenversion `PICT.exe` sollte hier zu finden sein: https://github.com/microsoft/pict/releases/, oder\n",
                "* PICT als *Online-Tool*. Dieses ist unter Webadresse https://pairwise.yuuniworks.com/ zur Verf\u00fcgung gestellt."
            ]
        },
        {
            "cell_type": "markdown",
            "id": "717c56bf-60c9-4048-927f-103189a51148",
            "metadata": {
                "jp-MarkdownHeadingCollapsed": true,
                "tags": []
            },
            "source": [
                "## Beispiel aus dem Buch\n",
                "\n",
                "F\u00fcr diese \u00dcbung starten wir mit dem Beispiel, wie es im Buch in Abschnitt 9.2 (ab Seite 202) beschrieben wird. Hast du das Buch gerade nicht zur Hand, dann schaue dir die folgenden Zellen des Notebooks als kurze Zusammenfassung an:"
            ]
        },
        {
            "cell_type": "markdown",
            "id": "6d8742b5-59a1-4001-9051-41f402046021",
            "metadata": {},
            "source": [
                "Wir betrachten ein autonomes Fahrzeug, das getestet werden soll. F\u00fcr die zu planenden Tests gibt es in unserem einfachen Beispiel acht Parameter, f\u00fcr die jeweils nur sehr wenige Werte ausgew\u00e4hlt werden k\u00f6nnen:\n",
                "\n",
                "<table style=\"border-collapse:separate;border-spacing:1em 0em\">\n",
                "    <thead>\n",
                "        <tr style=\"text-align:center;background-color:#f0f0f0\"><th>Stra\u00dfentyp</th><th>Oberfl\u00e4che</th><th>Wetter</th><th>Verkehr</th><th>Sicht</th><th>Tempomat</th><th>SH-Ass</th><th>SW-Ass</th></tr>\n",
                "    </thead>\n",
                "    <tbody>\n",
                "        <tr style=\"text-align:center;background-color:#fff\"><td>Autobahn  </td><td>Teer </td><td>Sonne</td><td>voll</td><td>neblig</td><td>V2.1</td><td>V1.0</td><td>V2.3  </td></tr>\n",
                "        <tr style=\"text-align:center;background-color:#fff\"><td>Landstra\u00dfe</td><td>Beton</td><td>Regen</td><td>leer</td><td>klar  </td><td>V3.4</td><td>    </td><td>V2.3.3</td></tr>\n",
                "    </tbody>\n",
                "</table>\n",
                "\n",
                "*Hinweis:* \"SH-Ass\" steht f\u00fcr *Spurhalteassistent* und \"SW-Ass\" f\u00fcr *Spurwechselassistent*    "
            ]
        },
        {
            "cell_type": "markdown",
            "id": "c1369501-5282-4932-9d71-4a97f08fb587",
            "metadata": {},
            "source": [
                "**Schritt 1:** Testf\u00e4lle, die aus der Kombination der von *Oberfl\u00e4che* und *Wetter* entstehen:\n",
                "\n",
                "<table><thead><tr style=\"text-align:center;background-color:#f0f0f0\"><th style=\"border-right-width:thin;border-right-style:solid;border-right-color:darkgray\">Testfall</th><th>Oberfl\u00e4che</th><th>Wetter</th></tr></thead>\n",
                "    <tbody>\n",
                "        <tr><td style=\"border-right-width:thin;border-right-style:solid;border-right-color:darkgray\">1</td><td>Teer</td><td>Sonne</td></tr>\n",
                "        <tr><td style=\"border-right-width:thin;border-right-style:solid;border-right-color:darkgray\">2</td><td>Beton</td><td>Regen</td></tr>\n",
                "        <tr><td style=\"border-right-width:thin;border-right-style:solid;border-right-color:darkgray\">3</td><td>Teer</td><td>Regen</td></tr>\n",
                "        <tr><td style=\"border-right-width:thin;border-right-style:solid;border-right-color:darkgray\">4</td><td>Beton</td><td>Sonne</td></tr>\n",
                "    </tbody>\n",
                "</table>"
            ]
        },
        {
            "cell_type": "markdown",
            "id": "821bed95-1e3a-4502-a7d8-ccbb21d7a267",
            "metadata": {},
            "source": [
                "**Schritt 2:** Wir erg\u00e4nzen den *Stra\u00dfentyp* und betrachten nun zus\u00e4tzlich die m\u00f6glichen Parameter-Paare:\n",
                "* *Stra\u00dfentyp&mdash;Oberfl\u00e4che* sowie \n",
                "* *Stra\u00dfentyp&mdash;Wetter*\n",
                "\n",
                "<table><thead><tr style=\"text-align:center;background-color:#f0f0f0\"><th style=\"border-right-width:thin;border-right-style:solid;border-right-color:darkgray\">Testfall</th><th>Oberfl\u00e4che</th><th>Wetter</th><th>Stra\u00dfentyp</th></tr></thead>\n",
                "    <tbody>\n",
                "        <tr><td style=\"border-right-width:thin;border-right-style:solid;border-right-color:darkgray\">1</td><td>Teer</td><td>Sonne</td><td>Landstra\u00dfe</td></tr>\n",
                "        <tr><td style=\"border-right-width:thin;border-right-style:solid;border-right-color:darkgray\">2</td><td>Beton</td><td>Regen</td><td>Landstra\u00dfe</td></tr>\n",
                "        <tr><td style=\"border-right-width:thin;border-right-style:solid;border-right-color:darkgray\">3</td><td>Teer</td><td>Regen</td><td>Autobahn</td></tr>\n",
                "        <tr><td style=\"border-right-width:thin;border-right-style:solid;border-right-color:darkgray\">4</td><td>Beton</td><td>Sonne</td><td>Autobahn</td></tr>\n",
                "    </tbody>\n",
                "</table>"
            ]
        },
        {
            "cell_type": "markdown",
            "id": "66f4ea73-6c0e-4607-8c5f-a196f64e6561",
            "metadata": {},
            "source": [
                "**Schritt 3:** Wir erg\u00e4nzen den Parameter *Verkehr*. Wir m\u00fcssen nun zus\u00e4tzlich drei Parameter-Paare\n",
                "* *Verkehr&mdash;Oberfl\u00e4che*, \n",
                "* *Verkehr&mdash;Wetter* sowie \n",
                "* *Verkehr&mdash;Stra\u00dfentyp* betrachten.\n",
                "\n",
                "F\u00fcr die ersten beiden sind deren Parameter-Werte-Paare weiterhin **in den ersten vier Testf\u00e4llen** enthalten, doch die dritte Paarung (*Verkehr&mdash;Stra\u00dfentyp*) ist nicht mehr darin abgedeckt:\n",
                "\n",
                "<table><thead><tr style=\"text-align:center;background-color:#f0f0f0\"><th style=\"border-right-width:thin;border-right-style:solid;border-right-color:darkgray\">Testfall</th><th>Oberfl\u00e4che</th><th>Wetter</th><th>Stra\u00dfentyp</th><th>Verkehr</th></tr></thead>\n",
                "    <tbody>\n",
                "        <tr><td style=\"border-right-width:thin;border-right-style:solid;border-right-color:darkgray\">1</td><td>Teer</td><td>Sonne</td><td>Landstra\u00dfe</td><td>voll</td></tr>\n",
                "        <tr><td style=\"border-right-width:thin;border-right-style:solid;border-right-color:darkgray\">2</td><td>Beton</td><td>Regen</td><td>Landstra\u00dfe</td><td>voll</td></tr>\n",
                "        <tr><td style=\"border-right-width:thin;border-right-style:solid;border-right-color:darkgray\">3</td><td>Teer</td><td>Regen</td><td>Autobahn</td><td>leer</td></tr>\n",
                "        <tr><td style=\"border-right-width:thin;border-right-style:solid;border-right-color:darkgray\">4</td><td>Beton</td><td>Sonne</td><td>Autobahn</td><td>leer</td></tr>\n",
                "        <tr><td style=\"border-right-width:thin;border-right-style:solid;border-right-color:darkgray\">5</td><td><em>\"Joker\"</em></td><td><em>\"Joker\"</em></td><td>Landstra\u00dfe</td><td>leer</td></tr>\n",
                "        <tr><td style=\"border-right-width:thin;border-right-style:solid;border-right-color:darkgray\">6</td><td><em>\"Joker\"</em></td><td><em>\"Joker\"</em></td><td>Autobahn</td><td>voll</td></tr>\n",
                "    </tbody>\n",
                "</table>\n",
                "\n",
                "In den ersten vier Testf\u00e4llen kommen nur die Parameter-Werte-Paare *Landstra\u00dfe+voll* und *Autobahn+leer* vor. Wir ben\u00f6tigen daher zwei weitere Testf\u00e4lle (5 und 6), die die Paare *Landstra\u00dfe+leer* sowie *Autobahn+voll* enthalten. Dabei ist egal welche Werte f\u00fcr *Oberfl\u00e4che* oder *Wetter* eingesetzt werden - wir haben also vier *Joker* frei!"
            ]
        },
        {
            "cell_type": "markdown",
            "id": "96d16609-3b26-46e1-9b32-7dad2bdfca63",
            "metadata": {},
            "source": [
                "**Schritt 4:** wir erg\u00e4nzen den n\u00e4chsten Parameter *Sicht*. Dabei nutzen wir zwei der *\"Joker\"*:\n",
                "\n",
                "<table><thead><tr style=\"text-align:center;background-color:#f0f0f0\"><th style=\"border-right-width:thin;border-right-style:solid;border-right-color:darkgray\">Testfall</th><th>Oberfl\u00e4che</th><th>Wetter</th><th>Stra\u00dfentyp</th><th>Verkehr</th><th>Sicht</th></tr></thead>\n",
                "    <tbody>\n",
                "        <tr><td style=\"border-right-width:thin;border-right-style:solid;border-right-color:darkgray\">1</td><td>Teer</td><td>Sonne</td><td>Landstra\u00dfe</td><td>voll</td><td>klar</td></tr>\n",
                "        <tr><td style=\"border-right-width:thin;border-right-style:solid;border-right-color:darkgray\">2</td><td>Beton</td><td>Regen</td><td>Landstra\u00dfe</td><td>voll</td><td>neblig</td></tr>\n",
                "        <tr><td style=\"border-right-width:thin;border-right-style:solid;border-right-color:darkgray\">3</td><td>Teer</td><td>Regen</td><td>Autobahn</td><td>leer</td><td>klar</td></tr>\n",
                "        <tr><td style=\"border-right-width:thin;border-right-style:solid;border-right-color:darkgray\">4</td><td>Beton</td><td>Sonne</td><td>Autobahn</td><td>leer</td><td>neblig</td></tr>\n",
                "        <tr><td style=\"border-right-width:thin;border-right-style:solid;border-right-color:darkgray\">5</td><td>Beton</td><td><em>\"Joker\"</em></td><td>Landstra\u00dfe</td><td>leer</td><td>klar</td></tr>\n",
                "        <tr><td style=\"border-right-width:thin;border-right-style:solid;border-right-color:darkgray\">6</td><td>Teer</td><td><em>\"Joker\"</em></td><td>Autobahn</td><td>voll</td><td>neblig</td></tr>\n",
                "    </tbody>\n",
                "</table>"
            ]
        },
        {
            "cell_type": "markdown",
            "id": "2be397a2-d9e8-4da8-bb89-e66978dfbe7f",
            "metadata": {},
            "source": [
                "## Aufgabe 1: manueller Ansatz\n",
                "* **F\u00fchre zun\u00e4chst manuell die Tabellen fort. Erg\u00e4nze dabei die folgenden Parameter: *Tempomat*, *SH-Ass* und *SW-Ass*.**\n",
                "* **Vergleiche dann dein Ergebnis mit dem aus dem Listing 9-2. Erkennst du den Trick mit den Jokern?**"
            ]
        },
        {
            "cell_type": "markdown",
            "id": "f3b084f4-4ea7-4bbd-b139-3d97eb5a0558",
            "metadata": {},
            "source": [
                "**Schritt 1:** Erg\u00e4nze im folgenden Code die Zeilen, um die Parameter *Tempomat*, *SH-Ass* und *SW-Ass*. Nimm die f\u00fcr die Parameter erlaubten Werte aus dem Listing 9-1 im Buch, bzw. den Tabelle in diesem Notebook unter der \u00dcberschrift \"[Beispiel aus dem Buch](#Beispiel-aus-dem-Buch)\"."
            ]
        },
        {
            "cell_type": "code",
            "execution_count": null,
            "id": "418c3db0-c95a-4efe-bb52-90bfd39c3a38",
            "metadata": {
                "tags": [
                    "Aufgabe"
                ]
            },
            "outputs": [],
            "source": [
                "import lib.pairwise as pw    # Importiere die Hilfsfunktionen zur Pairwise-Pr\u00fcfung\n",
                "\n",
                "# Die Funktion \"pw.parse_parameters(text)\" legt die Parameter und ihre m\u00f6glichen Werte anhand des \u00fcbergebenen Textes in der Variablen \"parameter\" ab.\n",
                "parameter = pw.parse_parameters('''\n",
                "Oberflaeche: Teer, Beton\n",
                "Wetter:      Sonne, Regen\n",
                "Strassentyp: Landstrasse, Autobahn\n",
                "Verkehr:     voll, leer\n",
                "Sicht:       klar, neblig\n",
                "  ... hier erg\u00e4nzen ...\n",
                "''')\n",
                "pw.print_parameters(parameter)  # Gibt die Liste der Parameter und der erlaubten Werte aus"
            ]
        },
        {
            "cell_type": "code",
            "execution_count": null,
            "id": "d3aa9057-4b98-43cc-b0a2-68781f8a8e90",
            "metadata": {
                "tags": [
                    "L\u00f6sung"
                ],
                "jupyter": {
                    "source_hidden": true
                }
            },
            "outputs": [],
            "source": [
                "# Um die L\u00f6sung anzuzeigen, bitte diese Zelle zweimal ausf\u00fchren\n",
                "%load L\u00f6sungen/L\u00f6sung01.py"
            ]
        },
        {
            "cell_type": "markdown",
            "id": "90815a8b-c4c7-47a6-bb28-2c5ebb51e9fd",
            "metadata": {},
            "source": [
                "**Schritt 2:** Erg\u00e4nze im folgenden Code zuerst ***nur*** die Spalten\u00fcberschrift (erste Zeile der Test-Tabelle) f\u00fcr den Parameter ***Tempomat*** und f\u00fchre den Code aus (STRG+ENTER). Der Check `pw.check(...)` ergibt, dass 20 Parameter-Werte-Paare fehlen."
            ]
        },
        {
            "cell_type": "code",
            "execution_count": null,
            "id": "1e65344e-a0f2-4eaa-a164-f5b989df7fe4",
            "metadata": {
                "tags": [
                    "Aufgabe"
                ]
            },
            "outputs": [],
            "source": [
                "# Die Funktion \"pw.parse_tests(text)\" legt die im \u00fcbergebenen Text beschriebene Parametrisierung der Testf\u00e4lle in der Variablen \"tests\" ab.\n",
                "tests = pw.parse_tests('''\n",
                "Oberflaeche Wetter Strassentyp Verkehr Sicht\n",
                "Teer        Sonne  Landstrasse voll    klar\n",
                "Beton       Regen  Landstrasse voll    neblig\n",
                "Teer        Regen  Autobahn    leer    klar\n",
                "Beton       Sonne  Autobahn    leer    neblig\n",
                "Beton       *      Landstrasse leer    klar    \n",
                "Teer        *      Autobahn    voll    neblig  \n",
                "''')\n",
                "pw.print_tests(tests)   # Gibt die Tabelle der Testf\u00e4lle aus\n",
                "\n",
                "# Die Funktion \"pw.check(parameter,tests)\" \u00fcberpr\u00fcft, ob die in den Testf\u00e4llen \"tests\" angegebenen Parameter-Werte-Paare vollst\u00e4ndig sind.\n",
                "# Dabei werden nur die Parameterspalten gepr\u00fcft, die auch in der Parameterliste \"parameter\" angegeben sind!\n",
                "pw.check(parameter, tests)"
            ]
        },
        {
            "cell_type": "code",
            "execution_count": null,
            "id": "4b634736-3975-4b8f-93cf-69e9fbc1108d",
            "metadata": {
                "tags": [
                    "L\u00f6sung"
                ],
                "jupyter": {
                    "source_hidden": true
                }
            },
            "outputs": [],
            "source": [
                "# Um die L\u00f6sung anzuzeigen, bitte diese Zelle zweimal ausf\u00fchren\n",
                "%load L\u00f6sungen/L\u00f6sung02.py"
            ]
        },
        {
            "cell_type": "markdown",
            "id": "bd313075-2b94-43c7-8a74-21b3c00d26a6",
            "metadata": {},
            "source": [
                "**Schritt 3:** Erg\u00e4nze jetzt in der folgenden Zelle zun\u00e4chst nur ***vier*** Werte f\u00fcr die Spalte *Tempomat* von oben nach unten und sieh dir (durch Ausf\u00fchren der Zelle) an, wie die Zahl der fehlenden Paare abnimmt. Hast du die Werte *f\u00fcr die ersten vier Testf\u00e4lle* gut verteilt, fehlen nur noch 2 Parameter-Werte-Paare!\n",
                "\n",
                "**Schritt 4:** Stelle nun das Argument *verb* (das steht f\u00fcr 'verbosity') der *check*-Funktion auf `pw.check(..., verb=1)`. Dadurch werden dir mehr Informationen angezeigt und du siehst die noch fehlenden Parameter-Werte-Paare. Erg\u00e4nze nun die noch fehlenden Werte in der Spalte *Tempomat* so, dass alle Parameter-Werte-Paare abgedeckt sind!"
            ]
        },
        {
            "cell_type": "code",
            "execution_count": null,
            "id": "bdfe2f0c-5fb1-4d08-bbb0-12f5923f10b0",
            "metadata": {
                "tags": [
                    "Aufgabe"
                ]
            },
            "outputs": [],
            "source": [
                "# Die Funktion \"pw.parse_tests(text)\" legt die im \u00fcbergebenen Text beschriebene Parametrisierung der Testf\u00e4lle in der Variablen \"tests\" ab.\n",
                "tests = pw.parse_tests('''\n",
                "Oberflaeche Wetter Strassentyp Verkehr Sicht   Tempomat\n",
                "Teer        Sonne  Landstrasse voll    klar\n",
                "Beton       Regen  Landstrasse voll    neblig\n",
                "Teer        Regen  Autobahn    leer    klar\n",
                "Beton       Sonne  Autobahn    leer    neblig\n",
                "Beton       *      Landstrasse leer    klar\n",
                "Teer        *      Autobahn    voll    neblig\n",
                "''')\n",
                "pw.print_tests(tests)              # Gibt die Tabelle der Testf\u00e4lle aus\n",
                "pw.check(parameter, tests, verb=0) # Pr\u00fcft die Paarweisen Kombinationen"
            ]
        },
        {
            "cell_type": "code",
            "execution_count": null,
            "id": "9bf8fcd8-499d-4af2-9311-38c6da88abb2",
            "metadata": {
                "tags": [
                    "L\u00f6sung"
                ],
                "jupyter": {
                    "source_hidden": true
                }
            },
            "outputs": [],
            "source": [
                "# Um die L\u00f6sung anzuzeigen, bitte diese Zelle zweimal ausf\u00fchren\n",
                "%load L\u00f6sungen/L\u00f6sung03.py"
            ]
        },
        {
            "cell_type": "markdown",
            "id": "587a92fc-b388-4c28-9606-d3760b7b357a",
            "metadata": {},
            "source": [
                "*Hinweis:* Dem Argument `verb` kannst du auch noch gr\u00f6\u00dfere Werte (bis 3) \u00fcbergeben und erh\u00e4ltst noch mehr Informationen."
            ]
        },
        {
            "cell_type": "markdown",
            "id": "ed031368-5afd-4a15-9742-bb4c334c2db4",
            "metadata": {},
            "source": [
                "**Schritt 5:** Erg\u00e4nze nun in der folgenden Zelle genauso den n\u00e4chsten Parameter ***SW-Ass*** mit seinen Werten. Wie viele Testf\u00e4lle musst du am Ende noch erg\u00e4nzen?\n",
                "\n",
                "**Schritt 6:** Erg\u00e4nze nun als letzten Parameter ***SH-Ass***. Da dieser nur einen Wert hat, wird sich an der Abdeckung der paarweisen Kombinationen nichts \u00e4ndern. **Vergleiche dein Ergebnis mit dem Listing 9-2**"
            ]
        },
        {
            "cell_type": "code",
            "execution_count": null,
            "id": "8178e533-faae-4c0c-99f7-c2914079d051",
            "metadata": {
                "tags": [
                    "Aufgabe"
                ]
            },
            "outputs": [],
            "source": [
                "# Die Funktion \"pw.parse_tests(text)\" legt die im \u00fcbergebenen Text beschriebene Parametrisierung der Testf\u00e4lle in der Variablen \"tests\" ab.\n",
                "tests = pw.parse_tests('''\n",
                "Oberflaeche Wetter Strassentyp Verkehr Sicht   Tempomat SW-Ass ...\n",
                "Teer        Sonne  Landstrasse voll    klar    V2.1     ...\n",
                "Beton       Regen  Landstrasse voll    neblig  V3.4\n",
                "Teer        Regen  Autobahn    leer    klar    V3.4\n",
                "Beton       Sonne  Autobahn    leer    neblig  V2.1\n",
                "Beton       Regen  Landstrasse leer    klar    V2.1\n",
                "Teer        Sonne  Autobahn    voll    neblig  V3.4\n",
                "''')\n",
                "pw.print_tests(tests)              # Gibt die Tabelle der Testf\u00e4lle aus\n",
                "pw.check(parameter, tests, verb=1) # Pr\u00fcft die Paarweisen Kombinationen"
            ]
        },
        {
            "cell_type": "markdown",
            "id": "d6ac4f80-116c-4336-a70e-cfdfbfe5a13e",
            "metadata": {},
            "source": [
                "### L\u00f6sung"
            ]
        },
        {
            "cell_type": "markdown",
            "id": "ea9418a2-d77c-4b1b-813f-7a51eaa1d6aa",
            "metadata": {
                "tags": [
                    "L\u00f6sung"
                ],
                "jupyter": {
                    "source_hidden": true
                }
            },
            "source": [
                "Im Vergleich zur L\u00f6sung in Listing 9-2 aus dem Buch:\n",
                "\n",
                "    Strassentyp Oberflaeche Wetter Verkehr Sicht  Tempomat SH-Ass SW-Ass \n",
                "    Landstrasse Beton       Regen  voll    neblig V3.4     V0.1   V2.3.3 \n",
                "    Autobahn    Teer        Sonne  leer    klar   V3.4     V0.1   V2.3 \n",
                "    Landstrasse Beton       Sonne  voll    klar   V2.1     V0.1   V2.3 \n",
                "    Landstrasse Teer        Regen  leer    neblig V2.1     V0.1   V2.3.3 \n",
                "    Autobahn    Teer        Regen  voll    klar   V2.1     V0.1   V2.3.3 \n",
                "    Autobahn    Beton       Regen  leer    neblig V3.4     V0.1   V2.3 \n",
                "    Landstrasse Teer        Sonne  leer    neblig V3.4     V0.1   V2.3.3\n",
                "\n",
                "k\u00f6nnen dir u.a. folgende Dinge aufgefallen sein:\n",
                "* Die Parameterspalten sind anders angeordnet. \n",
                "* Die sieben Testf\u00e4lle unterscheiden sich von denen die du gefunden hast.\n",
                "* Hast du noch \"*Joker*\" in deiner L\u00f6sung frei? In der L\u00f6sung sind \u00fcberall Werte eingesetzt.\n",
                "* Das Ergebnis sieht zwar ganz anders aus, deckt aber trotzdem alle Parameter-Werte-Paare ab.\n",
                "\n",
                "Du kannst dir daher gut vorstellen, dass schon das Vertauschen der Reihenfolge der Parameter- oder Werte die erzeugten Testf\u00e4lle ver\u00e4ndert - ganz zu schweigen, wenn wir verschiedene Tools verwendet h\u00e4tten. Die obige L\u00f6sung ist \u00fcbrigens von *PICT* ausgegeben worden (siehe [Tools f\u00fcr diese \u00dcbung](http://localhost:8888/lab#Tools-f%C3%BCr-diese-%C3%9Cbung)).\n",
                "\n",
                "Im \u00dcbrigen ist die von *PICT* ausgegebene L\u00f6sung (f\u00fcr die bisher vorgegebenen Parameter und Werte) *nicht minimal*! Tats\u00e4chlich reichen auch **nur sechs Testf\u00e4lle** aus, um **alle 98 Parameter-Werte-Paare** abzudecken. Wenn du mehr als sechs Testf\u00e4lle als Ergebnis hast, kannst du ja weiter probieren...</br>\n",
                "... oder siehst dir die folgende L\u00f6sung an:"
            ]
        },
        {
            "cell_type": "code",
            "execution_count": null,
            "id": "1cd15454-d694-4c1d-b971-3ddf2da00f4c",
            "metadata": {
                "tags": [
                    "L\u00f6sung"
                ],
                "jupyter": {
                    "source_hidden": true
                }
            },
            "outputs": [],
            "source": [
                "# Um die L\u00f6sung anzuzeigen, bitte diese Zelle zweimal ausf\u00fchren\n",
                "%load L\u00f6sungen/L\u00f6sung04.py"
            ]
        },
        {
            "cell_type": "markdown",
            "id": "2977c3fd-9fa8-435d-b74b-cdb95d47f4c0",
            "metadata": {},
            "source": [
                " "
            ]
        },
        {
            "cell_type": "markdown",
            "id": "d0efbbb9-124e-4bf8-abc6-7cd1e17ecf40",
            "metadata": {},
            "source": [
                "## Aufgabe 2: Testf\u00e4lle durch ein Tool bestimmen\n",
                "\n",
                "Erg\u00e4nze die Parameter um die folgenden Werte:\n",
                "* Wetter: Sonne, Regen, **Schnee, Hagel**\n",
                "* Oberfl\u00e4che: Beton, Teer, **Glatteis, Schotter, Kopfsteinpflaster**\n",
                "* Strassentyp: Landstrasse, Autobahn, **Stadtstrasse, Feldweg, Fahrradweg**\n",
                "* SW-Ass: 2.3, 2.3.3, **3.0, 3.1, 3.1.1, 3.5**"
            ]
        },
        {
            "cell_type": "markdown",
            "id": "693fbb5c-c3de-4353-9317-35f16532eb26",
            "metadata": {},
            "source": [
                "Du kannst entweder wie zuvor weitermachen, oder du nutzt die M\u00f6glichkeit der Funktionen `pw.parse_parameters(\"Dateiname\")` und `pw.parse_tests(\"Dateiname\")` die Parameter bzw. Testf\u00e4lle aus einer CSV-formatierten Datei einzulesen.\n",
                "Daf\u00fcr haben wir dir zwei Dateien vorbereitet:\n",
                "* [Parameter.csv](Parameter.csv), die die Parameter und die erlaubten Werte im CSV-Format enth\u00e4lt, und\n",
                "* [Testf\u00e4lle.csv](Testf\u00e4lle.csv), die die Testf\u00e4lle - ebenfalls im CSV-Format - enth\u00e4lt.\n",
                "\n",
                "Beide kannst du, wenn sie mit *Open With --> Editor* ge\u00f6ffnet hast, editieren.\n",
                "\n",
                "**Schritt 1: Erg\u00e4nze die [Parameter.csv](Parameter.csv) Datei** um die oben aufgelisteten Werte"
            ]
        },
        {
            "cell_type": "code",
            "execution_count": null,
            "id": "8ca71022-faf6-442c-8422-47a999b6edf2",
            "metadata": {
                "tags": [
                    "Aufgabe"
                ]
            },
            "outputs": [],
            "source": [
                "import lib.pairwise as pw    # Importiere die Hilfsfunktionen zur Pairwise-Pr\u00fcfung\n",
                "\n",
                "parameter = pw.parse_parameters(...) # Gib hier deine erweiterte Parameterdatei an\n",
                "pw.print_parameters(parameter)"
            ]
        },
        {
            "cell_type": "code",
            "execution_count": null,
            "id": "180ffdf6-de2d-4d76-8348-15c894a777e4",
            "metadata": {
                "tags": [
                    "L\u00f6sung"
                ],
                "jupyter": {
                    "source_hidden": true
                }
            },
            "outputs": [],
            "source": [
                "# Um die L\u00f6sung anzuzeigen, bitte diese Zelle zweimal ausf\u00fchren\n",
                "%load L\u00f6sungen/L\u00f6sung05.py"
            ]
        },
        {
            "cell_type": "code",
            "execution_count": null,
            "id": "be86e05b-81cd-4b8a-919d-bc69303ac5c3",
            "metadata": {
                "tags": [
                    "Test"
                ]
            },
            "outputs": [],
            "source": [
                "# TEST: Ist die volle Anzahl aller Parameterkombinationen bei 4800?\n",
                "import numpy as np\n",
                "np.product([len(parameter[p]) for p in parameter]) == 4800"
            ]
        },
        {
            "cell_type": "markdown",
            "id": "6506b82b-1889-42d1-908c-62035006411f",
            "metadata": {},
            "source": [
                "**Schritt 2: Starte das Tool [PICT Online](https://pairwise.yuuniworks.com/)** (siehe Abschnitt [Tools f\u00fcr diese \u00dcbung](#Tools-f%C3%BCr-diese-%C3%9Cbung)) und \u00fcbergebe die Ausgabe der Parameter per Copy-&-Paste\n",
                "\n",
                "Kopiere die von Tool erzeugten Testf\u00e4lle in die Datei [Testf\u00e4lle.csv](Testf\u00e4lle.csv) (diese mit *Open With-->Editor* editieren). Du kannst dabei die Tabs als Trennzeichen belassen, diese werden von *pw.parse_tests* erkannt."
            ]
        },
        {
            "cell_type": "code",
            "execution_count": null,
            "id": "b1f657b2-6dff-4d3b-8965-fb5c2ac0e982",
            "metadata": {
                "tags": [
                    "Aufgabe"
                ]
            },
            "outputs": [],
            "source": [
                "# Pr\u00fcfe die vom Tool erzeugten Testf\u00e4lle, ob diese vollst\u00e4ndig sind.\n",
                "tests = pw.parse_tests(...)\n",
                "#pw.print_tests(tests)\n",
                "pw.check(parameter, tests)"
            ]
        },
        {
            "cell_type": "code",
            "execution_count": null,
            "id": "4c49986e-c365-4550-8fea-e3562bc96317",
            "metadata": {
                "tags": [
                    "L\u00f6sung"
                ],
                "jupyter": {
                    "source_hidden": true
                }
            },
            "outputs": [],
            "source": [
                "# Um die L\u00f6sung anzuzeigen, bitte diese Zelle zweimal ausf\u00fchren\n",
                "%load L\u00f6sungen/L\u00f6sung06.py"
            ]
        }
    ],
    "metadata": {
        "kernelspec": {
            "display_name": "Python 3 (ipykernel)",
            "language": "python",
            "name": "python3"
        },
        "language_info": {
            "codemirror_mode": {
                "name": "ipython",
                "version": 3
            },
            "file_extension": ".py",
            "mimetype": "text/x-python",
            "name": "python",
            "nbconvert_exporter": "python",
            "pygments_lexer": "ipython3",
            "version": "3.11.0"
        }
    },
    "nbformat": 4,
    "nbformat_minor": 5
}