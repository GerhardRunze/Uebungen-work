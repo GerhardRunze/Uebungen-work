{
 "cells": [
  {
   "cell_type": "markdown",
   "id": "00a0b48c-830a-4794-8ba2-93957e370fa5",
   "metadata": {},
   "source": [
    "# Übung zu Kapitel 9.6 - Exploratives Testen\n",
    "\n",
    "*Eine Übung zum Buch \"[Basiswissen KI-Testen - Qualität von und mit KI-basierten Systemen](https://dpunkt.de/produkt/basiswissen-ki-testen/)\", ISBN 978-3-86490-947-4*\n",
    "\n",
    "In dieser Übung soll eine KI-basierte Anwendung explorativ getestet werden.\n",
    "\n",
    "Es handelt sich dabei um eine eigens zu Testzwecken entwickelte Webanwendung, den *Virtual Showroom II (VSR)* (https://vsr.testbench.com). Die Anwendung kann zwischen deutscher und englischer Sprache umgestellt werden. Wir benutzen hier die deutsche Einstellung.\n"
   ]
  },
  {
   "cell_type": "markdown",
   "id": "b2446d88-6ed7-4a1c-8e57-f32ed238eb1c",
   "metadata": {
    "tags": []
   },
   "source": [
    "## Vorbereitung"
   ]
  },
  {
   "cell_type": "markdown",
   "id": "24801398-9617-4ccf-92f4-255ab5cfdc7d",
   "metadata": {},
   "source": [
    "<img style=\"float:right;padding:0 0 0 20px;max-width:50%\" src=\"data/vsr_step0.png\"/>\n",
    "\n",
    "Öffne die Seite des [Virtual Showroom II (VSR)](https://vsr.testbench.com/login) in deinem Browser. Für die *deutsche* Spracheinstellung klicke auf den Button mit den Farben der deutschen Fahne am Ende der Seite.</br>\n",
    "Melde dich *ohne Registrierung* *\"Als Händler\"* mit einem Klick an: <img style=\"height:30px\" src=\"data/vsr_step1.png\"/>\n",
    "\n",
    "War die Anmeldung erfolgreich, siehst du eine Menüleiste mit den Einträgen *Kundenverzeichnis*, *Kundenstammdaten*, *Werkstatt*, *Kreditwürdigkeit* und *Kaufverträge*.</br>\n",
    "Wähle **Kreditwürdigkeit** aus.\n",
    "\n",
    "Du siehst nun eine Eingabemaske für Personenmerkmale (Geschlecht bis Kreditlaufzeit), anhand derer eine KI-Komponente die Kreditwürdigkeit der angegebenen Person berechnet:</br>\n",
    "![Image](data/vsr_step2.png)"
   ]
  },
  {
   "cell_type": "markdown",
   "id": "e455e97b-b138-4f71-bbed-ccedd0bb2c09",
   "metadata": {},
   "source": [
    "## Aufgabe"
   ]
  },
  {
   "cell_type": "markdown",
   "id": "141ebd54-d0fa-44c5-8aa4-d764c801e708",
   "metadata": {},
   "source": [
    "Prüfe die *Berechnung der Kreditwürdigkeit auf **Verzerrungen*** durch exploratives Testen.\n",
    "\n",
    "Gib dafür alle Personenmerkmale (linke Seite der angezeigten Maske) in unterschiedlichen Variationen an. Mit *\"Prüfen\"* wird die Kreditwürdigkeit berechnet und im Feld Kreditwürdigkeit des Kunden angezeigt.\n",
    "\n",
    "* Wie gehst du vor?\n",
    "* Sind die Ausgaben konsistent?\n",
    "* Kannst du Verzerrungen beobachten (finden)?"
   ]
  },
  {
   "cell_type": "markdown",
   "id": "00ce917f-49e1-405f-b05c-037d8f3ee69c",
   "metadata": {
    "jp-MarkdownHeadingCollapsed": true,
    "tags": []
   },
   "source": [
    "### Hinweise... (wenn du erste Testideen brauchst)"
   ]
  },
  {
   "cell_type": "markdown",
   "id": "2efa9dd9-d79f-44da-afc4-1e1052c37863",
   "metadata": {},
   "source": [
    "*Wie gehst du vor? ...*"
   ]
  },
  {
   "cell_type": "markdown",
   "id": "628792ff-b3fa-47be-892d-57addc4de291",
   "metadata": {
    "jupyter": {
     "source_hidden": true
    },
    "tags": [
     "Lösung"
    ]
   },
   "source": [
    "> Mit *Verzerrungen* ist hier ein unangemessener Bias gemeint. Im Zusammenhang mit einer Kreditvergabe geht es natürlich nicht um eine Verzerrung über die Kredithöhe oder die Laufzeit selbst. Hier erwarten wir, dass eine Kreditvergabe bei großen Krediten und geringer Laufzeit weniger großzügig befürwortet wird. Wir erwarten jedoch, dass die Kreditvergabe aber vom **Geschlecht** unabhängig sein sollte.\n",
    ">\n",
    "> Beide Aspekte können wir explorativ testen. Also die erwartete Änderung der Kreditwürdigkeit gegenüber einem Merkmal, sowie die erwartete Unabhängigkeit gegenüber besonderen Merkmalen wie dem Geschlecht."
   ]
  },
  {
   "cell_type": "markdown",
   "id": "8b7d44af-4fcd-4961-a54d-8e38327e2761",
   "metadata": {},
   "source": [
    "*Wie könntest du starten? ...*"
   ]
  },
  {
   "cell_type": "markdown",
   "id": "0a5d01c7-696c-47b0-8b30-821513d6da83",
   "metadata": {
    "jupyter": {
     "source_hidden": true
    },
    "tags": [
     "Lösung"
    ]
   },
   "source": [
    "1. Suche dir eine Konstellation von Personenmerkmalen aus, von der du denkst, dass die Person als kreditwürdig eingestuft wird.\n",
    "2. Variiere nun einzelne Merkmale, um herauszufinden, welche davon einen spürbaren Einfluss auf die Kreditwürdigkeit nehmen. Sind das die erwarteten?\n",
    "   </br>*Hinweis:* Nicht immer stimmt die erste Intuition eines Menschen. Ohne die wirkliche Datengrundlage zu kennen, können wir hier nicht auf Plausibilität prüfen. Wir führen hier, genau genommen, [metamorphe Tests](../Kap09.5_Metamorphes_Testen/Übung_Metamorphes_Testen.ipynb) durch."
   ]
  },
  {
   "cell_type": "markdown",
   "id": "4fae0b71-f280-4063-a6f8-15a6e34ea4bc",
   "metadata": {},
   "source": [
    "*Wie könntest du Verzerrungen beobachten?* ..."
   ]
  },
  {
   "cell_type": "markdown",
   "id": "f9d8d077-2bac-4549-8478-8dd4f9165aa1",
   "metadata": {
    "jupyter": {
     "source_hidden": true
    },
    "tags": [
     "Lösung"
    ]
   },
   "source": [
    "1. Starte erneut mit Personenmerkmalen bei der eine hohe Kreditwürdigkeit prognostiziert wird.\n",
    "2. Variiere das *Geschlecht*. Gibt es bereits hier *unerwartet starke* Auswirkungen auf die Kreditwürdigkeit?\n",
    "3. Verändere nun die Merkmale, von denen wir erwartungsgemäß einen Einfluss auf die Kreditwürdigkeit sehen so, dass diese die Ausgabe in die Nähe der Entscheidungsschwelle (50%) gelangt.\n",
    "4. Verändere nun das *Geschlecht*. Wie ist jetzt die Auswirkung auf die Ausgabe?"
   ]
  },
  {
   "cell_type": "markdown",
   "id": "cb3eb586-e0a7-4074-89b0-1bc8e27b6f02",
   "metadata": {
    "jp-MarkdownHeadingCollapsed": true,
    "tags": []
   },
   "source": [
    "## \"Lösung\""
   ]
  },
  {
   "cell_type": "markdown",
   "id": "be1b088e-46f0-414b-be0d-a10b8893475e",
   "metadata": {
    "tags": []
   },
   "source": [
    "Genauer gesagt, sind im Folgenden keine Lösungen, sondern nur einige Beispiele für ein erwartet \"gutes\" Verhalten oder entdeckte Verzerrungen beschrieben\n",
    "\n",
    "### Situation 1 - Verzerrung"
   ]
  },
  {
   "cell_type": "markdown",
   "id": "3f423944-6e39-439f-aaeb-c1d66f680bb6",
   "metadata": {
    "jupyter": {
     "source_hidden": true
    },
    "tags": [
     "Lösung"
    ]
   },
   "source": [
    "> Geschlecht: ...</br>\n",
    "Beruf: Hochqualifiziert</br>\n",
    "Wohnsituation: wohnhaft in Eigentum</br>\n",
    "Ersparnisse: wenig</br>\n",
    "Liquidität: moderat</br>\n",
    "Kredithöhe: mittel</br>\n",
    "Kreditlaufzeit: 9</br>\n",
    "\n",
    "    männlich:    35,2%  *******   |\n",
    "    weiblich:    78,4%  **********|******\n",
    "    divers:      21,2%  ****      |\n",
    "    ohne Angabe: 17,7%  ***       |"
   ]
  },
  {
   "cell_type": "markdown",
   "id": "6e05bf90-7651-4c69-a277-a919f68434c6",
   "metadata": {
    "tags": []
   },
   "source": [
    "### Situation 2 - \"gutes\" Verhalten"
   ]
  },
  {
   "cell_type": "markdown",
   "id": "e6f3618c-395a-4088-af34-3626aa4a9c5f",
   "metadata": {
    "jupyter": {
     "source_hidden": true
    },
    "tags": [
     "Lösung"
    ]
   },
   "source": [
    "> Geschlecht: ...</br>\n",
    "Beruf: Hochqualifiziert</br>\n",
    "Wohnsituation: wohnhaft in Eigentum</br>\n",
    "Ersparnisse: wohlhabend</br>\n",
    "Liquidität: wohlhabend</br>\n",
    "Kredithöhe: niedrig</br>\n",
    "Kreditlaufzeit: 12</br>\n",
    "\n",
    "    männlich:    94,6%  **********|*********\n",
    "    weiblich:    94,6%  **********|*********\n",
    "    divers:      89,1%  **********|********\n",
    "    ohne Angabe: 81,1%  **********|******"
   ]
  }
 ],
 "metadata": {
  "kernelspec": {
   "display_name": "Python 3 (ipykernel)",
   "language": "python",
   "name": "python3"
  },
  "language_info": {
   "codemirror_mode": {
    "name": "ipython",
    "version": 3
   },
   "file_extension": ".py",
   "mimetype": "text/x-python",
   "name": "python",
   "nbconvert_exporter": "python",
   "pygments_lexer": "ipython3",
   "version": "3.11.0"
  }
 },
 "nbformat": 4,
 "nbformat_minor": 5
}
