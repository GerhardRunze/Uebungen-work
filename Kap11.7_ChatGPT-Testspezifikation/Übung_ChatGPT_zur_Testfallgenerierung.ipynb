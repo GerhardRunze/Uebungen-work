{
 "cells": [
  {
   "cell_type": "markdown",
   "id": "00a0b48c-830a-4794-8ba2-93957e370fa5",
   "metadata": {
    "tags": []
   },
   "source": [
    "# Übung zu Kapitel 11.7 - ChatGPT zur Testfallgenerierung\n",
    "\n",
    "*Eine Übung zum Buch \"[Basiswissen KI-Testen - Qualität von und mit KI-basierten Systemen](https://dpunkt.de/produkt/basiswissen-ki-testen/)\", ISBN 978-3-86490-947-4*\n",
    "\n",
    "In dieser Übung wollen wir uns von ChatGPT bei der Entwicklung von Testfällen unterstützen lassen (Hintergründe findest du wie immer in Abschnitt 11.7 des Buches). Dazu verwendest du eine Anforderung zur Verkaufssoftware des *Virtual Showroom* aus dem Buch \"[Basiswissen Softwaretest](https://dpunkt.de/produkt/basiswissen-softwaretest/)\".\n"
   ]
  },
  {
   "cell_type": "markdown",
   "id": "2b8d497b-2144-4d65-9e87-e8a57d077caf",
   "metadata": {
    "tags": []
   },
   "source": [
    "Die Übung ist in vier Schritte aufgeteilt:\n",
    "\n",
    "* Vorbereitung: Anmeldung für ChatGPT\n",
    "* Schritt 1: Einführung in das Szenario und Ableitungen von Abhängigkeiten der Verkaufssumme\n",
    "* Schritt 2: Generierung von Testfällen\n",
    "* Schritt 3: Generierung von Äquivalenzklassen und Grenzwertanalysen\n",
    "\n",
    "**Hinweis:** ChatGPT ist nicht deterministisch und kann unterschiedliche Antworten generieren.\n",
    "Auch wenn die Antworten, die wir in den Lösungen angegeben haben, tatsächlich so\n",
    "von ChatGPT generiert wurden, können deine Ausgaben für diese Aufgabe anders ausfallen. Auch wenn du dir Antworten mehrmals generieren lässt, wird dir ChatGPT wahrscheinlich unterschiedliche Antworten geben."
   ]
  },
  {
   "cell_type": "markdown",
   "id": "03f13e8c-d055-4e1e-a240-531aad29df6c",
   "metadata": {
    "tags": [
     "Aufgabe"
    ]
   },
   "source": [
    "## Vorbereitung: \n",
    "\n",
    "**Verwendung von ChatGPT** <br>\n",
    "\n",
    "In dieser Übung verwenden wir den Chatbot ChatGPT. Es gibt verschiedene Möglichkeiten auf ChatGPT zuzugreifen: "
   ]
  },
  {
   "cell_type": "markdown",
   "id": "5a67c080-1335-4119-bf53-58c1169490b3",
   "metadata": {},
   "source": [
    "<img style=\"float:right;padding:0 0 0 20px;max-width:70%\" src=\"data/chatGPT_screenshot.png\" alt=\"ChatGPT\">\n",
    "\n",
    "Du kannst ChatGPT entweder direkt über **OpenAI im Browser** mit https://chat.openai.com aufrufen und dich dort registrieren bzw. anmelden (wenn du schon registriert bist). Dabei ist die kostenfreie Version ChatGPT-3.5 ausreichend."
   ]
  },
  {
   "cell_type": "markdown",
   "id": "4aa2ba1a-1832-4be9-bb4d-a2d9543f983c",
   "metadata": {},
   "source": [
    "<img style=\"float:right;padding:0 0 0 20px;max-width:70%\" src=\"data/Bing_Copilot.png\" alt=\"ChatGPT\">\n",
    "\n",
    "Alternativ kannst du auch den **Chatbot Copilot von der Suchmaschine Bing** verwenden, hinter dem OpenAIs GPT-4 in einer angepassten Variante für Microsoft steht. Wenn dir die eingeschränkte Anzahl an Chatanfragen ausreicht, ist eine Anmeldung nicht nötig."
   ]
  },
  {
   "cell_type": "markdown",
   "id": "fc17fe02-8bf6-4267-b304-0745d6221cef",
   "metadata": {},
   "source": [
    "Mach dich gerne erstmal mit dem Chatbot vertraut und frag ihn ein paar Sachen, die dich interessieren (z.B. \"Wie ist das Wetter heute?\", \"Wer bist du und was kannst du?\")! Du kannst dich bei deinen Fragen auch auf den Chatverlauf beziehen. ChatGPT merkt sich den Chat-Verlauf und seine Ausgaben und kann darauf Bezug nehmen. <br>\n",
    "Die Art und Weise wie man die Fragen stellt und welche Anweisungen man ChatGPT bei den Anfragen gibt, nennt man [Prompt-Engineering](https://www.bigdata-insider.de/was-ist-prompt-engineering-a-3308973005e97f3927d3f8b63ad3ff2e/)."
   ]
  },
  {
   "cell_type": "markdown",
   "id": "c718cba4-f0f2-46b7-ba55-2b365740d1f1",
   "metadata": {
    "tags": []
   },
   "source": [
    "## Aufgabe"
   ]
  },
  {
   "cell_type": "markdown",
   "id": "f7aee2a9-d044-4247-89a2-9c478b906a8e",
   "metadata": {
    "tags": [
     "Aufgabe"
    ]
   },
   "source": [
    "**Schritt 1:** Einführung in das Szenario und Ableitungen von Abhängigkeiten der Verkaufssumme<br>\n",
    "Wir haben eine Anforderung an für den [Virtual Showroom II (VSR)](https://vsr.testbench.com/login) vorliegen und wollen anhand dieser Anforderungen Testfälle für einen Abnahmetest formulieren:\n",
    "\n",
    "> *Anforderung:*<br>\n",
    "> *Über die Verkaufssoftware kann das Autohaus seinen Verkäufern Rabattregeln vorgeben: Bei einem Kaufpreis von weniger als 15.000 € soll kein Rabatt gewährt werden. Bei einem Preis bis zu 20.000 € sind 5% Rabatt angemessen. Liegt der Kaufpreis unter 25.000 €, sind 7% Rabatt möglich, darüber sind 8,5% Rabatt einzuräumen.*<br>\n",
    "> \\[[Basiswissen Softwaretest](https://dpunkt.de/produkt/basiswissen-softwaretest/), Spillner & Linz 2019, S. 37\\]\n",
    "\n",
    "Lass dir von ChatGPT ausgeben, welche Zusammenhänge sich für die Gewährung eines Rabatts in Abhängigkeit der Verkaufssumme ableiten lassen. Prüfe die Ausgabe von ChatGPT!"
   ]
  },
  {
   "cell_type": "markdown",
   "id": "57579510-9016-4648-a591-868ee9739f03",
   "metadata": {
    "tags": [
     "Aufgabe"
    ]
   },
   "source": [
    "**Schritt 2:** Generierung von Testfällen <br>\n",
    "Leite mit ChatGPT Testfälle daraus ab! (ChatGPT merkt sich den Chat-Verlauf und seine Ausgaben und kann darauf Bezug nehmen.) Prüfe die Ausgabe von ChatGPT!"
   ]
  },
  {
   "cell_type": "markdown",
   "id": "baf9ed68-ac6b-4e98-ad79-557e475da1ee",
   "metadata": {
    "jp-MarkdownHeadingCollapsed": true,
    "tags": [
     "Aufgabe"
    ]
   },
   "source": [
    "**Schritt 3:** Generierung von Äquivalenzklassen und Grenzwertanalysen <br>\n",
    "Lass ChatGPT die Äquivalenzkassen bestimmen und die Tests für ein Grenzwertanalyse formulieren! Prüfe die Ausgabe von ChatGPT!"
   ]
  },
  {
   "cell_type": "markdown",
   "id": "c6260bac-fa3e-46e8-9273-62040a29df67",
   "metadata": {
    "tags": [
     "Aufgabe"
    ]
   },
   "source": [
    "**Optionale Zusatzaufgabe:** Lass dir beispielhaft Code für eine Testautomatisierung mit einem Testingtool deiner Wahl ausgeben (Cypress, Selenium, RobotFramework etc.)!"
   ]
  },
  {
   "cell_type": "markdown",
   "id": "7dd15e10-8387-4010-8cb6-e83c6cc7fead",
   "metadata": {
    "tags": []
   },
   "source": [
    "## \"Lösungen\" (Weblinks)"
   ]
  },
  {
   "cell_type": "markdown",
   "id": "e13c8665-bf70-4c9a-973f-e8b1ef8706c6",
   "metadata": {
    "jupyter": {
     "source_hidden": true
    },
    "tags": [
     "Lösung"
    ]
   },
   "source": [
    "*Hinweis:* Die \"Lösungen\" sind nur als Beispiele zu sehen enthalten echte Chat-Konversationen mit ChatGPT. Du benötigst einen ChatGPT-Login, um die verlinkten Lösungen ansehen zu können.\n",
    "\n",
    "Klick auf den Link für [Beispiel I](https://chat.openai.com/share/f6b5e481-1b59-44af-ab7e-bf26c808a43d), um die Beispiel-Konversation zu sehen.<br>\n",
    "Wie wir sehen, kann uns ChatGPT schon ganz gut helfen. Es wird der Sachverhalt in diesem Fall richtig zusammengefasst. Am Ende sehen wir aber auch, dass ChatGPT nicht immer zuverlässig auf die richtigen Ergebnisse kommt: Auch wenn in diesem Beispiel am Ende der Übungen die Äquivalenzklassen nochmal korrekt gebildet wurden, hat ChatGPT Probleme eine sinnvolle Grenzwertanalyse zu formulieren. Wenn wir die ausgewählten Werte genauer anschauen, sehen wir, dass die Grenze für \"keine Rabatt\" zu \"5% Rabatt\" falsch wiedergegeben ist. ChatGPT hat offensichtlich kein Verständnis für die Aufgabenstellung, dennoch gelingt es ihm erstaunlich gut, einen gut klingenden Text als Antwort zu generieren.\n",
    "\n",
    "In dem [Beispiel II](https://chat.openai.com/share/538b63df-a6a3-4fcf-a55c-2e66f81c8b7a) hat ChatGPT etwas anders geantwortet. Diesmal hat er richtig erkannt, dass es für den 8,5% Rabatt keine obere Grenze gibt. In diesem Beispiel ist zusätzlich eine beispielhafte Testautomatisierung für Selenium enthalten.\n",
    "\n",
    "In [Beispiel III](https://chat.openai.com/share/1649c90a-5532-43cc-b85d-9f8ddba71c9a) haben wir anders begonnen und gleich nach den Rabatten und Äquivalenzklassen gefragt - daher werden nun auch keine Negativtests oder Test auf Robustheit vorgeschlagen. Die Testfälle sehen augenscheinlich sehr gut aus, doch hat ChatGPT die Zweiwertmethode nicht präzise verwendet: Pro Grenzwert wurde nur *ein* Testfall beschrieben."
   ]
  },
  {
   "cell_type": "markdown",
   "id": "b9ad09e9-b5db-44af-9984-d38bf51e7518",
   "metadata": {
    "jp-MarkdownHeadingCollapsed": true,
    "tags": []
   },
   "source": [
    "## \"Lösung\" (als Kopie)\n",
    "Wenn du keinen Login für ChatGPT hast, oder nicht anlegen möchtest, haben wir im Folgenden einen weiteren Chatverlauf in dieses Notebook kopiert:"
   ]
  },
  {
   "cell_type": "markdown",
   "id": "ddda782e-65e6-4bf3-b590-30a222db9aca",
   "metadata": {
    "jp-MarkdownHeadingCollapsed": true,
    "tags": []
   },
   "source": [
    "#### Schritt 1"
   ]
  },
  {
   "cell_type": "markdown",
   "id": "1de07cc9-1f17-4487-a9ae-006ce7f83e8d",
   "metadata": {
    "tags": [
     "Lösung"
    ]
   },
   "source": [
    "**Prompteingabe für ChatGPT:**\n",
    "\n",
    "*Ich habe folgende Anforderung: Über die Verkaufssoftware kann das Autohaus seinen Verkäufern Rabattregeln vorgeben: Bei einem Kaufpreis von weniger als 15.000 € soll kein Rabatt gewährt werden. Bei einem Preis bis zu 20.000 € sind 5% Rabatt angemessen. Liegt der Kaufpreis unter 25.000 €, sind 7% Rabatt möglich, darüber sind 8,5% Rabatt einzuräumen. Welche Zusammenhänge lassen sich für die Gewährung eines Rabatts in Abhängigkeit der Verkaufssumme ableiten? Fasse diese so knapp wie möglich, aber vollständig zusammen.*"
   ]
  },
  {
   "cell_type": "markdown",
   "id": "d51f0620-7653-4b38-928e-fd6de6963d8f",
   "metadata": {},
   "source": [
    "**Promtausgabe von ChatGPT:**\n",
    "\n",
    "*Die Gewährung eines Rabatts in Abhängigkeit von der Verkaufssumme kann wie folgt zusammengefasst werden: <br>\n",
    "Kaufpreis < 15.000 €: Kein Rabatt. <br>\n",
    "15.000 € ≤ Kaufpreis ≤ 20.000 €: 5% Rabatt.<br>\n",
    "20.000 € < Kaufpreis < 25.000 €: 7% Rabatt.<br>\n",
    "Kaufpreis ≥ 25.000 €: 8,5% Rabatt.*"
   ]
  },
  {
   "cell_type": "markdown",
   "id": "8d6f2b15-e037-49b1-90e9-7d2699d777fe",
   "metadata": {
    "jp-MarkdownHeadingCollapsed": true,
    "tags": []
   },
   "source": [
    "#### Schritt 2"
   ]
  },
  {
   "cell_type": "markdown",
   "id": "7cb677a3-e84a-45d6-b5e2-cb903584bf8e",
   "metadata": {
    "tags": [
     "Lösung"
    ]
   },
   "source": [
    "**Prompteingabe für ChatGPT:**\n",
    "\n",
    "*Leite daraus Testfälle ab!*"
   ]
  },
  {
   "cell_type": "markdown",
   "id": "27da33fe-1413-46eb-a666-fcdb3b88e9c7",
   "metadata": {},
   "source": [
    "**Promtausgabe von ChatGPT:**\n",
    "\n",
    "*Hier sind einige Testfälle, die aus den Rabattregeln abgeleitet werden können:<br>*\n",
    "- *Testfall für keinen Rabatt:\n",
    "Kaufpreis: 10.000 € Erwartetes Ergebnis: Kein Rabatt gewährt.<br>*\n",
    "- *Testfall für 5% Rabatt:\n",
    "Kaufpreis: 18.000 € Erwartetes Ergebnis: 5% Rabatt gewährt (900 € Rabatt).<br>*\n",
    "- *Testfall für 7% Rabatt:\n",
    "Kaufpreis: 23.000 € Erwartetes Ergebnis: 7% Rabatt gewährt (1.610 € Rabatt).<br>*\n",
    "- *Testfall für 8,5% Rabatt:\n",
    "Kaufpreis: 30.000 € Erwartetes Ergebnis: 8,5% Rabatt gewährt (2.550 € Rabatt).<br>*\n",
    "- *Testfall für den Grenzwert von 15.000 €:\n",
    "Kaufpreis: **15.000 €** Erwartetes Ergebnis: **Kein Rabatt** gewährt.<br>*\n",
    "- *Testfall für den Grenzwert von 20.000 €:\n",
    "Kaufpreis: 20.000 € Erwartetes Ergebnis: 5% Rabatt gewährt (1.000 € Rabatt).<br>*\n",
    "- *Testfall für den Grenzwert von 25.000 €:\n",
    "Kaufpreis: **25.000 €** Erwartetes Ergebnis: **7% Rabatt** gewährt (1.750 € Rabatt).<br>*\n",
    "- *Testfall für einen Kaufpreis von 0 € (ungültiger Wert):\n",
    "Kaufpreis: 0 € Erwartetes Ergebnis: Ungültige Eingabe, kein Rabatt.<br>*\n",
    "\n",
    "Diese Testfälle decken verschiedene Szenarien ab und können verwendet werden, um sicherzustellen, dass die Rabattregeln in der Verkaufssoft-ware korrekt implementiert sind.<br>\n"
   ]
  },
  {
   "cell_type": "markdown",
   "id": "f7235b7a-cd60-40a2-8f95-4f8438d6a678",
   "metadata": {},
   "source": [
    "**Anmerkung:** <br>\n",
    "ChatGPT gibt hier im 5. und im 7. Testfall falsche erwartete Ergebnisse an. Wie wir sehen, ist das Prüfen der Ausgaben von ChatGPT wichtig! Du kannst ChatGPT auf die Fehler hinweisen. Bist du zufrieden mit der Antwort?"
   ]
  },
  {
   "cell_type": "markdown",
   "id": "8c2af428-969e-42f1-810a-f4cb09296d29",
   "metadata": {
    "jp-MarkdownHeadingCollapsed": true,
    "tags": []
   },
   "source": [
    "#### Schritt 3"
   ]
  },
  {
   "cell_type": "markdown",
   "id": "5596055b-04a8-432d-8628-452bbbdd868b",
   "metadata": {
    "tags": [
     "Lösung"
    ]
   },
   "source": [
    "**Prompteingabe für ChatGPT:**\n",
    "\n",
    "*Bilde Äquivalenzklassen und formuliere eine Grenzwertanalyse!*"
   ]
  },
  {
   "cell_type": "markdown",
   "id": "a8f5a022-81ba-4fed-bdce-336a521fac83",
   "metadata": {},
   "source": [
    "**Promtausgabe von ChatGPT:**\n",
    "\n",
    "Die Äquivalenzklassen für die Rabattregeln können wie folgt bestimmt werden: <br>\n",
    "- Klasse für keinen Rabatt:\n",
    "Kaufpreis < 15.000 € <br>\n",
    "- Klasse für 5% Rabatt:\n",
    "15.000 € ≤ Kaufpreis ≤ 20.000 €<br>\n",
    "- Klasse für 7% Rabatt:\n",
    "20.000 € < Kaufpreis < 25.000 €<br>\n",
    "- Klasse für 8,5% Rabatt:\n",
    "Kaufpreis ≥ 25.000 €<br>\n",
    "\n",
    "Die Grenzwertanalyse kann durchgeführt werden, indem wir die Grenzwerte für die Äquivalenzklassen testen:<br>\n",
    "- Kaufpreis = 14.999,99 € (untere Grenze der Klasse für keinen Rabatt): <br>\n",
    "Erwartetes Ergebnis: Kein Rabatt.<br>\n",
    "- Kaufpreis = 15.000 € (obere Grenze der Klasse für keinen Rabatt und untere Grenze der Klasse für 5% Rabatt):<br>\n",
    "Erwartetes Ergebnis: 5% Rabatt.<br>\n",
    "- Kaufpreis = 20.000 € (obere Grenze der Klasse für 5% Rabatt und untere Grenze der Klasse für 7% Rabatt):<br>\n",
    "Erwartetes Ergebnis: 5% Rabatt.<br>\n",
    "- Kaufpreis = 24.999,99 € (untere Grenze der Klasse für 7% Rabatt und obere Grenze der Klasse für 5% Rabatt):<br>\n",
    "Erwartetes Ergebnis: 7% Rabatt.<br>\n",
    "- Kaufpreis = 25.000 € (obere Grenze der Klasse für 7% Rabatt und untere Grenze der Klasse für 8,5% Rabatt):<br>\n",
    "Erwartetes Ergebnis: 7% Rabatt.<br>\n",
    "- Kaufpreis = 25.000,01 € (obere Grenze der Klasse für 8,5% Rabatt):<br>\n",
    "Erwartetes Ergebnis: 8,5% Rabatt.<br>\n",
    "\n",
    "\n",
    "Diese Grenzwertanalysen decken die kritischen Übergänge zwischen den Äquivalenzklassen ab und helfen sicherzustellen, dass die Rabattregeln korrekt in der Verkaufssoftware implementiert sind.\n"
   ]
  },
  {
   "cell_type": "markdown",
   "id": "22bf1111-7ac8-45a9-b79c-6e9ffcb46720",
   "metadata": {},
   "source": [
    "**Anmerkung:** <br>\n",
    "ChatGPT hat hier die Äquivalenzklassen und die Grenzwertanalyse korrekt gebildet. Ist das bei dir auch der Fall?"
   ]
  }
 ],
 "metadata": {
  "kernelspec": {
   "display_name": "Python 3 (ipykernel)",
   "language": "python",
   "name": "python3"
  },
  "language_info": {
   "codemirror_mode": {
    "name": "ipython",
    "version": 3
   },
   "file_extension": ".py",
   "mimetype": "text/x-python",
   "name": "python",
   "nbconvert_exporter": "python",
   "pygments_lexer": "ipython3",
   "version": "3.11.0"
  }
 },
 "nbformat": 4,
 "nbformat_minor": 5
}
