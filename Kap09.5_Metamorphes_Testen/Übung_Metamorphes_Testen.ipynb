{
 "cells": [
  {
   "cell_type": "markdown",
   "id": "8ff32988-6135-4b48-8b60-167ee4742304",
   "metadata": {
    "tags": []
   },
   "source": [
    "# Übung zu Kapitel 9.5 - Metamorphes Testen\n",
    "\n",
    "*Eine Übung zum Buch \"[Basiswissen KI-Testen - Qualität von und mit KI-basierten Systemen](https://dpunkt.de/produkt/basiswissen-ki-testen/)\", ISBN 978-3-86490-947-4*\n",
    "\n",
    "In dieser Übung kannst du ganz praktisch das metamorphe Testen üben. Wir verwenden dazu eine von *Google* bereitgestellte Webanwendung (*Teachable Machine*), mit der du beispielweise anhand von Kamerabildern ein Klassifikationsmodell trainieren und testen kannst.\n",
    "\n",
    "Die Grundlagen zu metamorphen Relationen und zum metamorphen Test findest du in Abschnitt 9.5 des Buches."
   ]
  },
  {
   "cell_type": "markdown",
   "id": "1c2202f1-f2c3-45e3-8469-81e0540f3c95",
   "metadata": {},
   "source": [
    "Diese Übung haben wir in eine Vorbereitung und zwei Aufgaben geteilt:\n",
    "* Vorbereitung\n",
    "* Aufgabe 1: Wir **trainieren** das Bild-Klassifikationsmodell.\n",
    "* Aufgabe 2: Wir **testen** das Modell mit Hilfe metamorpher Relationen."
   ]
  },
  {
   "cell_type": "markdown",
   "id": "074d2e69-5e7a-4523-9d91-9ac0651fb730",
   "metadata": {
    "tags": []
   },
   "source": [
    "## Vorbereitung"
   ]
  },
  {
   "cell_type": "markdown",
   "id": "985bac6a-072c-480e-91c0-329853a22bac",
   "metadata": {},
   "source": [
    "Für diese Übung benötigst du einen **Browser** und eine angeschlossene **Kamera**, die vom Browser aus zugreifbar ist. Ziel ist es, mit dem Web-Tool **Teachable Machine** eine Bild-Klassifikation für die geometrischen Formen *Dreieck*, *Rechteck*, *Kreis* und *Quadrat* vorzunehmen.\n",
    "\n",
    "**Teachable Machine** (https://teachablemachine.withgoogle.com/train) ist ein webbasiertes Tool von *Google*, mit dem du Modelle des maschinellen Lernens einfach und schnell erstellen kannst.\n",
    "* Öffne über den Link die Google-Webanwendung [Teachable Machines](https://teachablemachine.withgoogle.com/train)\n",
    "* Die Anwendung ist *mehrsprachig* - du findest die Möglichkeit zur *Spracheinstellung* (relativ klein) am unteren Fensterrand deines Browsers! Wir beziehen unsere Beschreibung nur auf die Einstellung *\"Deutsch\"*.\n",
    "* Wähle als nächstes das **Bildprojekt** aus\n",
    "* In der nun angezeigten Auswahl selektierst du **Modell mit Standardbildern**\n",
    "\n",
    "Nun solltest du eine grafische Darstellung wie die folgende sehen und kannst mit Aufgabe 1 loslegen.</br>\n",
    "<img style=\"width:600px;\" src=\"data/tm_step0_075.png\"/>"
   ]
  },
  {
   "cell_type": "markdown",
   "id": "9c649707-6074-4c9b-bfdd-effad901b61d",
   "metadata": {
    "tags": []
   },
   "source": [
    "## Aufgabe 1"
   ]
  },
  {
   "cell_type": "markdown",
   "id": "db936617-2bc0-4ab5-bcec-926ea5af6b41",
   "metadata": {},
   "source": [
    "<img style=\"float:right;width:60%;max-width:500px\" src=\"data/tm_step1.png\"/>\n",
    "\n",
    "1. Male die vier Formen *Dreieck*, *Rechteck*, *Kreis* und *Quadrat* auf Papier und trainiere damit den Klassifikator in Teachable Machine:</br>\n",
    "\n",
    "2. Öffne, wie in der [Vorbereitung](#Vorbereitung) beschrieben ein neues *Bildprojekt* in *Teachable Machines*:\n",
    "   * Teachable Machine starten\n",
    "   * Das *Bildprojekt* und dann *Modell mit Standardbildern* auswählen"
   ]
  },
  {
   "cell_type": "markdown",
   "id": "815cb955-6035-4499-bf2b-07a5ae77217f",
   "metadata": {},
   "source": [
    "<img style=\"float:right;width:60%;max-width:621px\" src=\"data/tm_step2.png\"/>\n",
    "\n",
    "Dann kannst du mit *Class 1* beginnen und die erste von dir gemalte Form (als erste Klasse) trainieren:\n",
    "\n",
    "3. Bei Class 1 den Titel der Klasse editieren und z.B. *\"Dreieck\"* eingeben,\n",
    "4. *\"Webcam\"* anklicken und ggf. über *\"Webcam wechseln\"* die passende auswählen,\n",
    "5. gemalte Figur (z.B. das Dreieck) vor die Kamera halten und *\"Zum Aufnehmen halten\"* klicken - Es werden, während du die Maus gedrückt hältst, 24 Bilder pro Sekunde gemacht (über das Zahnrad-Symbol kannst du die Art der Aufnahme verändern),\n",
    "6. das Blatt mit der Figur drehen, kippen etc., um viele unterschiedliche Bilder zu bekommen.\n",
    "7. Ebenso verfährst du auch mit den anderen Figuren für Class 2, Class 3 und Class 4.\n",
    "\n",
    "![Image](data/tm_step3.png)"
   ]
  },
  {
   "cell_type": "markdown",
   "id": "2d4a815c-05dc-478f-9068-cfaa841a2b0d",
   "metadata": {},
   "source": [
    "8. Dann das *\"Modell trainieren\"* klicken. Habe etwas Geduld, hier wird ein neuronales Netz über mehrere Epochen trainiert (in der [Übung zu Kapitel 6.1](../Kap06.1_Neuronale_Netze/Übung_Neuronale_Netze.ipynb) haben wir uns in den Grundzügen damit beschäftigt). Unter *\"Erweitert\"* kannst du die Hyperparameter des Trainings einstellen: *Epochen*, *Batchgröße* oder *Lernrate*.\n",
    "9. Ist das Training abgeschlossen, kannst du unter *\"Erweitert\"* dir auch einige *Details* zum Training anzeigen lassen, wie die *Genauigkeit*, die *Konfusionsmatrix* (die hier *Wahrheitsmatrix* genannt wird), oder den Verlauf der erreichten Genauigkeit während des Trainingsfortschritts.</br>\n",
    "![Image](data/tm_step4.png)\n",
    "10. Im Anschluss kannst du den Klassifikator testen, indem du die gemalten Figuren wieder vor die Kamera hältst. Es ist natürlich besser, wenn du neue Figuren malst, die ein klein wenig anders aussehen, da der Test nicht mit den Trainingsdaten durchgeführt werden soll."
   ]
  },
  {
   "cell_type": "markdown",
   "id": "fda38bc9-2f23-4f18-8547-886191192d3e",
   "metadata": {},
   "source": [
    "## Aufgabe 2\n",
    "\n",
    "Überlege dir nun **metamorphe Relationen** (MR) für die Bilder, um den Klassifikator zu testen. Spiele vielleicht auch mit verschiedenen Farben.\n"
   ]
  },
  {
   "cell_type": "markdown",
   "id": "acacd52f-c9ad-4e87-ac27-b0dd39bc9d8e",
   "metadata": {},
   "source": [
    "Notiere dir hier deine MR:\n",
    "* Die *Farbe des Quadrats* ändert nicht die Klassifikation\n",
    "* ...\n",
    "* ...\n",
    "*\n"
   ]
  },
  {
   "cell_type": "markdown",
   "id": "b2d3045f-660c-48d1-ae5f-ca3b1c65ba4b",
   "metadata": {
    "jp-MarkdownHeadingCollapsed": true,
    "tags": []
   },
   "source": [
    "## Lösung"
   ]
  },
  {
   "cell_type": "markdown",
   "id": "2dd85b9d-0ef5-4f7d-903f-e6f400ed0a15",
   "metadata": {},
   "source": [
    "Schauen wir die erste metamorphe Relation (MR) oben an: *ändert man die **Farbe** des Quadrats, bleibt die Klassifikation \"Quadrat\" gleich*.</br>\n",
    "Aus dieser Vermutung heraus malst du mit farbigen Stiften verschiedene Quadrate unterschiedlicher Farbe und hältst diese vor die Kamera. Werde diese immer noch als Quadrate erkannt?\n",
    "\n",
    "Aus der obigen **MR** hast du damit **metamorphe Tests**, aus dem Ausgangstest mit dem ursprünglich schwarzen Quadrat, abgeleitet.\n",
    "\n",
    "Welche MR könnten wir noch annehmen:"
   ]
  },
  {
   "cell_type": "markdown",
   "id": "db627095-765a-4926-afec-8369084b1e6e",
   "metadata": {
    "tags": [
     "Lösung"
    ]
   },
   "source": [
    "* Die **Rahmendicke** ändert die Klassifikation nicht"
   ]
  },
  {
   "cell_type": "markdown",
   "id": "577754d9-bd4b-4a27-896c-21ad1a526996",
   "metadata": {
    "tags": [
     "Lösung"
    ]
   },
   "source": [
    "* Die **Größe im Bild** (Skalierung) ändert die Klassifikation nicht."
   ]
  },
  {
   "cell_type": "markdown",
   "id": "a83a7790-037a-4837-96aa-8005c62adf0a",
   "metadata": {
    "tags": [
     "Lösung"
    ]
   },
   "source": [
    "* Eine **Drehung** des Quadrats ändert de Klassifikation nicht"
   ]
  },
  {
   "cell_type": "markdown",
   "id": "978e540d-0860-4c90-9c03-0bef7e93a4a4",
   "metadata": {
    "tags": [
     "Lösung"
    ]
   },
   "source": [
    "* Die **Strichart** (durchgezogen oder gestrichelt) ändert die Klassifikation nicht."
   ]
  },
  {
   "cell_type": "markdown",
   "id": "7f5e627f-1e55-4e8f-b351-cfb53e118188",
   "metadata": {
    "tags": [
     "Lösung"
    ]
   },
   "source": [
    "* Die **Füllung** des Quadrats ändert die Klassifikation nicht."
   ]
  },
  {
   "cell_type": "markdown",
   "id": "493014f6-e41d-481f-9fda-6036897bcc83",
   "metadata": {
    "tags": [
     "Lösung"
    ]
   },
   "source": [
    "* Die **Füllfarbe** ändert die Klassifikation nicht."
   ]
  },
  {
   "cell_type": "markdown",
   "id": "b6b0321d-1da7-4593-b75a-32d2b26a878e",
   "metadata": {
    "tags": [
     "Lösung"
    ]
   },
   "source": [
    "![Image](data/tm_step5.png)"
   ]
  }
 ],
 "metadata": {
  "kernelspec": {
   "display_name": "Python 3 (ipykernel)",
   "language": "python",
   "name": "python3"
  },
  "language_info": {
   "codemirror_mode": {
    "name": "ipython",
    "version": 3
   },
   "file_extension": ".py",
   "mimetype": "text/x-python",
   "name": "python",
   "nbconvert_exporter": "python",
   "pygments_lexer": "ipython3",
   "version": "3.7.6"
  }
 },
 "nbformat": 4,
 "nbformat_minor": 5
}
