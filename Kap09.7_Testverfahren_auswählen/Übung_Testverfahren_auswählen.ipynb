{
 "cells": [
  {
   "cell_type": "markdown",
   "id": "00a0b48c-830a-4794-8ba2-93957e370fa5",
   "metadata": {
    "tags": []
   },
   "source": [
    "# Übung zu Kapitel 9.7 - Testverfahren auswählen\n",
    "\n",
    "*Eine Übung zum Buch \"[Basiswissen KI-Testen - Qualität von und mit KI-basierten Systemen](https://dpunkt.de/produkt/basiswissen-ki-testen/)\", ISBN 978-3-86490-947-4*\n",
    "\n",
    "In dieser Übung geht es darum, zu erkennen, welche der in Kapitel 9 vorgestellten Testverfahren in verschiedenen Projektsituationen eingesetzt werden können.\n"
   ]
  },
  {
   "cell_type": "markdown",
   "id": "304fec2c-3029-4b56-af57-c39826a7303f",
   "metadata": {
    "tags": []
   },
   "source": [
    "## Aufgabe\n",
    "Wähle für die folgenden Projektsituationen zu KI-basierten Produkten jeweils mindestens eines der Testverfahren\n",
    "(siehe Abschnitt 9.7.1 im Buch ab Seite 220) aus, das besonders geeignet ist:\n",
    "### Projektsituationen\n",
    "1. Die bestehende KI-Komponente des Gesamtsystems wird gegen eine neu entwickelte Variante ersetzt.\n",
    "2. Im Projekt gibt es Kolleginnen und Kollegen, die fachlich sehr gut, aber im Testen unerfahren sind. Es gibt leider nur wenige Testfälle.\n",
    "3. Im Projekt mit dem autonomen Roboter ist nicht sichergestellt, dass widersprüchliche Sensorwerte korrekt verarbeitet werden.\n",
    "4. Zwei Teams haben parallel sehr ähnliche Systeme für die gleiche Aufgabe entwickelt.\n",
    "5. Untersuchungen des öffentlich zugänglichen Datensatzes haben darin Widersprüche festgestellt. Wurde er ggf. angegriffen?\n",
    "6. Das Vertrauen in die zum Training verwendeten Daten ist nicht besonders groß. Manche Teammitglieder kennen sich aber in der Anwendungsdomäne des Produktes gut aus.\n",
    "7. Die KI-Komponente für das Produktvorschlagssystem auf der Verkaufsplattform wurde angepasst und soll mehr Umsatz generieren.\n",
    "8. Der Mähroboter hat eine sehr effektive Steuerungssoftware. Der Konkurrenz gefällt das nicht.\n",
    "\n",
    "### Testverfahren\n",
    "1. Vergleichendes Testen\n",
    "2. A/B-Testen\n",
    "3. Metamorphes Testen\n",
    "4. Gegnerisches Testen, Testen auf Datenverunreinigungen\n",
    "5. Paarweises Testen\n",
    "6. Erfahrungsbasiertes Testen\n",
    "7. Überdeckungsmaße für neuronale Netze"
   ]
  },
  {
   "cell_type": "markdown",
   "id": "a395ba39-7969-4b49-8dfe-21636215ac79",
   "metadata": {
    "jp-MarkdownHeadingCollapsed": true,
    "tags": []
   },
   "source": [
    "## Lösung"
   ]
  },
  {
   "cell_type": "markdown",
   "id": "01d0c474-7760-45e9-ad2a-4829e4dce533",
   "metadata": {
    "tags": []
   },
   "source": [
    "#### Zu 1. Die bestehende KI-Komponente des Gesamtsystems wird gegen eine neu entwickelte Variante ersetzt."
   ]
  },
  {
   "cell_type": "markdown",
   "id": "1da4e943-c5db-454c-b03e-548c608dbe6a",
   "metadata": {
    "jupyter": {
     "source_hidden": true
    },
    "tags": []
   },
   "source": [
    "**Lösung: 1. Vergleichendes Testen**\n",
    "\n",
    "Kurze Erläuterung: Ein bereits etabliertes System wird durch eine neue gleichwertige Variante ersetzt. Das zu ersetzende System kann als Testorakel dienen. Wahrscheinlich können wir zusätzlich auch auf bereits vorhandene Testfälle zurückgreifen. Da es in diesem Szenario nicht darum geht, welche Variante besser ist, ist der A/B-Test nicht der passende Ansatz."
   ]
  },
  {
   "cell_type": "markdown",
   "id": "d16ed665-4cf7-418b-9e24-6e86c8a4ed1f",
   "metadata": {
    "tags": []
   },
   "source": [
    "#### Zu 2. Im Projekt gibt es Kolleginnen und Kollegen, die fachlich sehr gut, aber im Testen unerfahren sind. Es gibt leider nur wenige Testfälle.\n"
   ]
  },
  {
   "cell_type": "markdown",
   "id": "15c65a0a-bfd1-493e-ad17-24f0b239a5de",
   "metadata": {
    "jupyter": {
     "source_hidden": true
    },
    "tags": []
   },
   "source": [
    "**Lösung: 3. Metamorphes Testen und 6. Erfahrungsbasiertes Testen**\n",
    "\n",
    "Kurze Erläuterung: *Metamorphes Testen* eignet sich besonders gut für Teams mit wenig Testerfahrung, da Tests sehr gut manuell erstellt werden können und das Domänen wissen der Experten im Fokus stehet. Bevor metamorphes Testen angewendet wird, sollten die metamorphen Relationen definiert werden. Es ist wichtig zu beachten, dass die Ergebnisse der Tests immer im Verhältnis zum Ausgangstestfall bewertet werden müssen.\n",
    "\n",
    "*Erfahrungsbasierters Testen* eignet sich hier ebenfalls, da fachliche Erfahrung im Team vorhanden ist. Diese hilft bei der intuitiven Testfallermittlung oder dem explorativen Testen. Hilfestellungen durch Test-Chartas, Testtouren oder Checklisten helfen zudem bei der Ableitung von Testfällen."
   ]
  },
  {
   "cell_type": "markdown",
   "id": "ec010fb1-d8ca-4be3-9ff1-2f4e3cdde850",
   "metadata": {
    "tags": []
   },
   "source": [
    "#### Zu 3. Im Projekt mit dem autonomen Roboter ist nicht sichergestellt, dass widersprüchliche Sensorwerte korrekt verarbeitet werden.\n"
   ]
  },
  {
   "cell_type": "markdown",
   "id": "8912a55b-69c0-4ba9-aa16-6b1c7ef5eaa4",
   "metadata": {
    "jupyter": {
     "source_hidden": true
    },
    "tags": []
   },
   "source": [
    "**Lösung: 5. Paarweises Testen**\n",
    "\n",
    "Kurze Erläuterung: Ein autonomer Roboter verfügt über viele Sensoren und Softwarezustände. Die vollständige Testfallabdeckung aller möglichen widersprüchlichen Sensorwerte kann zu einer Testfallexplosion führen. Daher kann es sinnvoll sein, Softwarezustände und Sensoreingaben durch paarweises Testen zusammenzufassen."
   ]
  },
  {
   "cell_type": "markdown",
   "id": "6860efb6-cc62-499f-b735-f6613cf611de",
   "metadata": {
    "tags": []
   },
   "source": [
    "#### Zu 4. Zwei Teams haben parallel sehr ähnliche Systeme für die gleiche Aufgabe entwickelt."
   ]
  },
  {
   "cell_type": "markdown",
   "id": "ff782568-76d1-4131-be51-f8f08a229225",
   "metadata": {
    "jupyter": {
     "source_hidden": true
    },
    "tags": []
   },
   "source": [
    "**Lösung: 2. A/B-Testen**\n",
    "\n",
    "Kurze Erläuterung: Hier liegt der Fokus darauf festzustellen, welches der beiden System Vorteilhafter ist. Vergleichendes Testen ist hier nicht passend, da hierbei eines der beiden Systeme als Testorakel dienen würde, an dem sich das andere orientieren müsste. Durch die parallele Entwicklung sind aber beide Systeme  gleichwertig und keines der beiden Systeme kann als Testorakel dienen."
   ]
  },
  {
   "cell_type": "markdown",
   "id": "828888d3-decc-4434-8d42-155f8290e66e",
   "metadata": {
    "tags": []
   },
   "source": [
    "#### Zu 5. Untersuchungen des öffentlich zugänglichen Datensatzes haben darin Widersprüche festgestellt. Wurde er ggf. angegriffen?\n"
   ]
  },
  {
   "cell_type": "markdown",
   "id": "7a58df25-a2eb-4f83-bc94-f82e3aa4c244",
   "metadata": {
    "jupyter": {
     "source_hidden": true
    },
    "tags": []
   },
   "source": [
    "**Lösung: 4. Gegnerisches Testen, Testen auf Datenverunreinigungen**\n",
    "\n",
    "Kurze Erläuterung: Tests auf Datenverunreinigungen könnte Unstimmigkeiten innerhalb des Datensatzes finden. Eine Explorative Datenanalyse (EDA) könnte etwa Anomalien oder Verzerrungen aufdecken, Regressionstests könnten ein verändertes Verhalten nachweisen, wenn wir Systeme zur Verfügung haben, die vor und nach einem vermuteten Angriff trainiert wurden."
   ]
  },
  {
   "cell_type": "markdown",
   "id": "cb228d71-1f04-4c41-ad55-7c7c18c6056e",
   "metadata": {
    "tags": []
   },
   "source": [
    "#### Zu 6. Das Vertrauen in die zum Training verwendeten Daten ist nicht besonders groß. Manche Teammitglieder kennen sich aber in der Anwendungsdomäne des Produktes gut aus.\n"
   ]
  },
  {
   "cell_type": "markdown",
   "id": "fb27ac3d-41a5-4732-b027-c29e1ace5cf9",
   "metadata": {
    "jupyter": {
     "source_hidden": true
    },
    "tags": []
   },
   "source": [
    "**Lösung 3. Metamorphes Testen und 6. Erfahrungsbasiertes Testen**\n",
    "\n",
    "Kurze Erläuterung: Wie in Projektsituation 2 eignen sich hier das metamorphe Testen und das erfahrungsbasierte Testen."
   ]
  },
  {
   "cell_type": "markdown",
   "id": "1a45f994-58da-43d1-a3cd-11a9c865af25",
   "metadata": {
    "tags": []
   },
   "source": [
    "#### Zu 7. Die KI-Komponente für das Produktvorschlagssystem auf der Verkaufsplattform wurde angepasst und soll mehr Umsatz generieren.\n"
   ]
  },
  {
   "cell_type": "markdown",
   "id": "58676bb4-892f-4bf5-9a26-b5897a9dff24",
   "metadata": {
    "jupyter": {
     "source_hidden": true
    },
    "tags": []
   },
   "source": [
    "**Lösung: 2. A/B-Testen**\n",
    "\n",
    "Kurze Erläuterung: Da hier zwei Systemversionen in direkter Konkurrenz stehen, ist hier der A/B-Test der richtige Ansatz. Wir verwenden eine Metrik (den generierten Umsatz) um die beiden Systeme zu vergleichen. Dazu brauchen wir einen statistischen Ansatz mit z.B. vielen Kunden, Produkten und Verkäufen - eines der Kennzeichen des A/B-Tests."
   ]
  },
  {
   "cell_type": "markdown",
   "id": "c8963cc3-4795-4c77-b821-cb7a8affecde",
   "metadata": {
    "tags": []
   },
   "source": [
    "#### Zu 8. Der Mähroboter hat eine sehr effektive Steuerungssoftware. Der Konkurrenz gefällt das nicht."
   ]
  },
  {
   "cell_type": "markdown",
   "id": "25dfa3bf-788e-4f25-b23c-e551e97a3e4c",
   "metadata": {
    "jupyter": {
     "source_hidden": true
    },
    "tags": []
   },
   "source": [
    "**Lösung: 4. Gegnerisches Testen, Testen auf Datenverunreinigungen**\n",
    "\n",
    "Kurze Erläuterung: In dieser Projektsituation sollten wir uns auf einen Angriff durch die Konkurrenz einstellen. Um uns dagegen abzusichern, versetzten wir uns beim gegnerischen Testen in die Lage eines Angreifers, um potenzielle Schwachstellen und mögliche Angriffspunkte zu finden. Um manipulierte Daten zu erkennen, können wir Methoden des Testens auf Datenverunreinigung einsetzen. "
   ]
  }
 ],
 "metadata": {
  "kernelspec": {
   "display_name": "Python 3 (ipykernel)",
   "language": "python",
   "name": "python3"
  },
  "language_info": {
   "codemirror_mode": {
    "name": "ipython",
    "version": 3
   },
   "file_extension": ".py",
   "mimetype": "text/x-python",
   "name": "python",
   "nbconvert_exporter": "python",
   "pygments_lexer": "ipython3",
   "version": "3.11.0"
  }
 },
 "nbformat": 4,
 "nbformat_minor": 5
}
